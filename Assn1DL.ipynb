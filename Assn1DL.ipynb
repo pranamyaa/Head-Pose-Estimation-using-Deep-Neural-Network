{
  "nbformat": 4,
  "nbformat_minor": 0,
  "metadata": {
    "colab": {
      "name": "Assn1DL.ipynb",
      "provenance": [],
      "collapsed_sections": []
    },
    "kernelspec": {
      "name": "python3",
      "display_name": "Python 3"
    },
    "accelerator": "GPU"
  },
  "cells": [
    {
      "cell_type": "markdown",
      "metadata": {
        "id": "gBJuhbf4Dp1t",
        "colab_type": "text"
      },
      "source": [
        "**Assignment 1 Deep Learning COSC2779**\n",
        "\n",
        "The goal of the assignment is to develop a deep convolutional neural network (CNN) architechture to predict the head pose of given image of a person.\n",
        "The head pose is quantified by two values:\n",
        "\n",
        "1.   Tilt : vertical angle of head.\n",
        "2.   Pan : Horizontal angle of head.\n",
        "\n",
        "we have a original data from head Pose Image Database published with N. Gourier,\n",
        "D. Hall, J. L. Crowley, “Estimating Face Orientation from Robust Detection of Salient Facial Features”, Proceedings of ICPR International Workshop on Visual Observation of Deictic Gestures 2004.\n",
        "\n",
        "The data set contains 2 main files 'train_data.csv' and 'test_data.csv' in which the image filenames are mentioned along with their person id and sequence id. All the images are present in 'modified_data.zip' folder.\n",
        "\n",
        "The dataset contains two class lables namely tilt and pan. \n",
        "Tilt values varies in between +90 to -90 where negative values represent bottom and positive values represent top direction and this label have 9 different classes.\n",
        "\n",
        "Pan values varies in between +90 to -90 and have 13 different classes. Here, negative values represent left direction while positive values represent right direction of a face.\n",
        "\n"
      ]
    },
    {
      "cell_type": "markdown",
      "metadata": {
        "id": "tjUAueunKqXD",
        "colab_type": "text"
      },
      "source": [
        "# Mounting Drive and Loading required packages and libraries\n",
        "\n",
        "In this section, before starting the experiement, we have to mount the google drive with our .ipynb file to read the data from the drive. \n",
        "We are also loading the required packages in this section so that we can use them in below coding cells.  \n",
        "The next important step is to set up a tensorboard platform to check the performance realted matrices of the CNN model we are building for this experiment. \n"
      ]
    },
    {
      "cell_type": "code",
      "metadata": {
        "id": "bLO8IdxHjNys",
        "colab_type": "code",
        "colab": {
          "base_uri": "https://localhost:8080/",
          "height": 34
        },
        "outputId": "1ddf71fa-287a-419e-bfab-176f7a67c523"
      },
      "source": [
        "from google.colab import drive\n",
        "drive.mount('/content/drive', force_remount=True)"
      ],
      "execution_count": 38,
      "outputs": [
        {
          "output_type": "stream",
          "text": [
            "Mounted at /content/drive\n"
          ],
          "name": "stdout"
        }
      ]
    },
    {
      "cell_type": "code",
      "metadata": {
        "id": "y4LNS9U8jY1F",
        "colab_type": "code",
        "colab": {}
      },
      "source": [
        "import pandas as pd\n",
        "import numpy as np\n",
        "import matplotlib.pyplot as plt\n",
        "import tensorflow as tf\n",
        "AUTOTUNE = tf.data.experimental.AUTOTUNE\n",
        "import keras.preprocessing.image as image \n",
        "import os\n",
        "\n",
        "import pathlib\n",
        "import shutil\n",
        "import tempfile\n",
        "\n",
        "from  IPython import display\n",
        "from matplotlib import pyplot as plt\n",
        "from sklearn.model_selection import train_test_split\n",
        "\n",
        "logdir = pathlib.Path(tempfile.mkdtemp())/\"tensorboard_logs\"\n",
        "shutil.rmtree(logdir, ignore_errors=True)\n",
        "\n",
        "# Load the TensorBoard notebook extension\n",
        "%load_ext tensorboard\n",
        "\n",
        "# Open an embedded TensorBoard viewer\n",
        "%tensorboard --logdir {logdir}/models"
      ],
      "execution_count": null,
      "outputs": []
    },
    {
      "cell_type": "markdown",
      "metadata": {
        "id": "h14waVAiPBci",
        "colab_type": "text"
      },
      "source": [
        "# Setting up a basic plotter function to plot the performance graphs\n",
        "\n",
        "the below code is to set up a plotter function which is used to plot graphs of the given model as per the provided performance metric. It will generate basic line graph for both training and validation data with solid and dotted line respectively."
      ]
    },
    {
      "cell_type": "code",
      "metadata": {
        "id": "ZgKLUVZZjY3_",
        "colab_type": "code",
        "colab": {}
      },
      "source": [
        "from itertools import cycle\n",
        "def plotter(history_hold, metric = 'binary_crossentropy', ylim=[0.0, 1.0]):\n",
        "  cycol = cycle('bgrcmk')\n",
        "  for name, item in history_hold.items():\n",
        "    y_train = item.history[metric]\n",
        "    y_val = item.history['val_' + metric]\n",
        "    x_train = np.arange(0,len(y_val))\n",
        "\n",
        "    c=next(cycol)\n",
        "\n",
        "    plt.plot(x_train, y_train, c+'-', label=name+'_train')\n",
        "    plt.plot(x_train, y_val, c+'--', label=name+'_val')\n",
        "\n",
        "  plt.legend()\n",
        "  plt.xlim([1, max(plt.xlim())])\n",
        "  plt.ylim(ylim)\n",
        "  plt.xlabel('Epoch')\n",
        "  plt.ylabel(metric)\n",
        "  plt.grid(True)"
      ],
      "execution_count": 40,
      "outputs": []
    },
    {
      "cell_type": "markdown",
      "metadata": {
        "id": "2bFO_ONfQEjl",
        "colab_type": "text"
      },
      "source": [
        "# Reading data from the cloud splitting it into Training and Validation datasets.\n",
        "\n",
        "Below code cell contains code to read the files 'train_data.csv' and 'test_data.csv' into google colab environment and splitting the train_data into training and validation datasets so that, we can perform the model training on the training data while try to generalize the performance of trained model on the validation data. \n"
      ]
    },
    {
      "cell_type": "code",
      "metadata": {
        "id": "fHxaeTkajY7N",
        "colab_type": "code",
        "colab": {
          "base_uri": "https://localhost:8080/",
          "height": 574
        },
        "outputId": "4002f762-ee91-4065-8bca-7ad0cade2fcf"
      },
      "source": [
        "# Reading the train and test data files from google cloud to colab environment.\n",
        "DF = pd.read_csv(\"/content/drive/My Drive/ColabNotebooks/DeepLearningLabs/Assignment1/Assign1/A1_data/train_data.csv\")\n",
        "DF_Test = pd.read_csv(\"/content/drive/My Drive/ColabNotebooks/DeepLearningLabs/Assignment1/Assign1/A1_data/test_data.csv\")\n",
        "\n",
        "print(DF.shape)\n",
        "print(DF.dtypes)\n",
        "print(DF['tilt'].value_counts())\n",
        "print(DF['pan'].value_counts())"
      ],
      "execution_count": 41,
      "outputs": [
        {
          "output_type": "stream",
          "text": [
            "(2325, 5)\n",
            "filename     object\n",
            "person_id     int64\n",
            "series        int64\n",
            "tilt          int64\n",
            "pan           int64\n",
            "dtype: object\n",
            " 15    325\n",
            "-15    325\n",
            " 60    325\n",
            "-60    325\n",
            " 30    325\n",
            "-30    325\n",
            " 0     325\n",
            " 90     25\n",
            "-90     25\n",
            "Name: tilt, dtype: int64\n",
            " 0     225\n",
            " 75    175\n",
            "-75    175\n",
            " 45    175\n",
            "-45    175\n",
            " 15    175\n",
            "-15    175\n",
            " 90    175\n",
            "-90    175\n",
            " 60    175\n",
            "-60    175\n",
            " 30    175\n",
            "-30    175\n",
            "Name: pan, dtype: int64\n"
          ],
          "name": "stdout"
        }
      ]
    },
    {
      "cell_type": "markdown",
      "metadata": {
        "id": "dgQmdLy1UGFq",
        "colab_type": "text"
      },
      "source": [
        "1. From the output of above cells, we can see that, the train_data.csv contains \n",
        "2325 image data and 5 feature columns namely, 'filename', 'person_id', 'series', 'tilt' and 'pan'.\n",
        "2. We can see that, the data type of of our experiment labels 'tilt' and 'pan' are int64 which is numeric data. \n",
        "3. furthermore, we can see from above output that, the class label 'tilt' contain 9 unique values out of which +90 and -90 tilt values have minimum samples in the data. \n",
        "4. +90 and -90 represents highest and lowest vertical angles of head position.\n",
        "5. As we can see the tilt and pan values varies in between fixed set of class values, we can use classification approch to predict the head position angles of unseen test data images.\n",
        "6. We need to convert the class labels into str to make it as a classification problem.\n",
        "7. For the classification purpose, we are encoding these class variable values as below to predict them for test data images.\n",
        "\n",
        "\n",
        "---\n",
        "\n"
      ]
    },
    {
      "cell_type": "code",
      "metadata": {
        "id": "r38yId6LRsbX",
        "colab_type": "code",
        "colab": {
          "base_uri": "https://localhost:8080/",
          "height": 52
        },
        "outputId": "8b9b68da-4fd3-47ea-a20d-9f91feed93c9"
      },
      "source": [
        "DF['pan'] = DF['pan'].astype(str)\n",
        "DF['tilt'] = DF['tilt'].astype(str)\n",
        "DF['tilt'] = DF['tilt'].replace({\"-90\":\"0\" , \"-60\":\"1\", \"-30\":\"2\", \"-15\":\"3\", \"0\":\"4\", \"15\":\"5\", \"30\":\"6\", \"60\":\"7\", \"90\":\"8\"})\n",
        "DF['pan'] = DF['pan'].replace({\"-90\":\"0\", \"-75\":\"1\", \"-60\":\"2\", \"-45\":\"3\", \"-30\":\"4\", \"-15\":\"5\", \"0\":\"6\", \"15\":\"7\", \"30\":\"8\", \"45\":\"9\", \"60\":\"10\", \"75\":\"11\", \"90\":\"12\"})\n",
        "\n",
        "# We split the Training datatset into Training and Validation dataset by using 80:20 splitting (80% for Training and 20% for validation)\n",
        "X_train,X_val = train_test_split(DF,test_size=0.2, random_state=999)\n",
        "\n",
        "\n",
        "print(X_train.shape)\n",
        "print(X_val.shape)"
      ],
      "execution_count": 42,
      "outputs": [
        {
          "output_type": "stream",
          "text": [
            "(1860, 5)\n",
            "(465, 5)\n"
          ],
          "name": "stdout"
        }
      ]
    },
    {
      "cell_type": "markdown",
      "metadata": {
        "id": "NjsF3L6TWeG5",
        "colab_type": "text"
      },
      "source": [
        "We are splitting the training data in dataframe DF into training and validation data. Training data is used to build and train our convolutional neural network model and validation data is used to check how our model is generalizing on the unseen data so that we can perform hyperparameter tuning to squeeze out some more performance from the model.\n",
        "Here, we have used '**train_test_split()**' function to split the 80% of the total data into training dataset and remaing 20% data as a validation dataset.\n",
        "We are setting random_state to 999 due to which we can get the same records into each training and validation dataset every time we run this code cell.\n",
        "\n",
        "\n",
        "---\n",
        "\n",
        "\n",
        "\n",
        "\n"
      ]
    },
    {
      "cell_type": "markdown",
      "metadata": {
        "id": "xbrO2a8hsxAF",
        "colab_type": "text"
      },
      "source": [
        "# Problem Approach and Basic Exploration\n",
        "\n",
        "As we can state from the above read data that, this problem can be solved using classification as well as regression method. But first we have do some basic exploration of the target label classes and check if there are enough data available for training and validation. because lack of data may generate  high variance in the developed model which may result in overfitting and bad performance.\n",
        "\n",
        "In this assignment we are goin to predict the tilt and pan seperately so that we can see their respective performances during training and validation. This assignment is divided into two parts :\n",
        "\n",
        "1. Tilt prediction \n",
        "2. Pan prediction\n",
        "\n",
        "We are using branching technique to create a model in which the partial model is same for both the above predictions so that we can use power of trained model in both the predictions and then branch the model seperately for further prediction of tilt and pan.\n",
        "\n",
        "\n",
        "After building the model, we are going to check the performance of the model and then try to improve that performance by some hyper-parameter tuning methodologies.\n",
        "\n",
        "\n",
        "---\n",
        "\n"
      ]
    },
    {
      "cell_type": "markdown",
      "metadata": {
        "id": "pPCPVQmJciqr",
        "colab_type": "text"
      },
      "source": [
        "# **tilt prediction**\n",
        "\n",
        "First let check the number of images in the training and validation dataset for each of the tilt class values. \n",
        "we can see from the below result that both in training and validation data set, the images with tilt +90 and -90 that is upper top and lower bottom angle of vertical head position have very few records. \n",
        "in the next step we explore  the percentage wise class label proportions in the tilt class. \n",
        "\n"
      ]
    },
    {
      "cell_type": "code",
      "metadata": {
        "id": "9Q50mp8UK5H4",
        "colab_type": "code",
        "colab": {
          "base_uri": "https://localhost:8080/",
          "height": 196
        },
        "outputId": "8bf9c9b6-be9c-4c9a-d362-3bc7eac4293c"
      },
      "source": [
        "print(X_train['tilt'].value_counts())"
      ],
      "execution_count": 43,
      "outputs": [
        {
          "output_type": "stream",
          "text": [
            "3    275\n",
            "6    269\n",
            "4    263\n",
            "5    259\n",
            "7    254\n",
            "1    253\n",
            "2    251\n",
            "0     21\n",
            "8     15\n",
            "Name: tilt, dtype: int64\n"
          ],
          "name": "stdout"
        }
      ]
    },
    {
      "cell_type": "code",
      "metadata": {
        "id": "B7ctHQNXLA40",
        "colab_type": "code",
        "colab": {
          "base_uri": "https://localhost:8080/",
          "height": 196
        },
        "outputId": "1cc6e8d4-263a-4471-c846-3b63570ebf82"
      },
      "source": [
        "print(X_val['tilt'].value_counts())"
      ],
      "execution_count": 44,
      "outputs": [
        {
          "output_type": "stream",
          "text": [
            "2    74\n",
            "1    72\n",
            "7    71\n",
            "5    66\n",
            "4    62\n",
            "6    56\n",
            "3    50\n",
            "8    10\n",
            "0     4\n",
            "Name: tilt, dtype: int64\n"
          ],
          "name": "stdout"
        }
      ]
    },
    {
      "cell_type": "code",
      "metadata": {
        "id": "Hi5urKCgjY-1",
        "colab_type": "code",
        "colab": {
          "base_uri": "https://localhost:8080/",
          "height": 345
        },
        "outputId": "79e01fa3-c153-4d8a-8ed2-ffbd7130e20d"
      },
      "source": [
        "# Some exploration about tilt and pan which are labels \n",
        "a = X_train['tilt'].value_counts()\n",
        "x1 = a.index\n",
        "fig1 = plt.figure()\n",
        "ax = fig1.add_axes([0,0,0.5,0.5])\n",
        "ax.pie(a,autopct ='%.2f%%',labels = x1,shadow = True, radius= 2.0)\n",
        "ax.legend(loc = \"right\", bbox_to_anchor=(2,1.3,0,0))\n",
        "plt.show()"
      ],
      "execution_count": 45,
      "outputs": [
        {
          "output_type": "display_data",
          "data": {
            "image/png": "[encoded data removed]",
            "text/plain": [
              "<Figure size 432x288 with 1 Axes>"
            ]
          },
          "metadata": {
            "tags": []
          }
        }
      ]
    },
    {
      "cell_type": "code",
      "metadata": {
        "id": "mqjTrAHllyQa",
        "colab_type": "code",
        "colab": {
          "base_uri": "https://localhost:8080/",
          "height": 340
        },
        "outputId": "7b8d699e-0964-450e-c342-563f0d51d5c3"
      },
      "source": [
        "a = X_val['tilt'].value_counts()\n",
        "x1 = a.index\n",
        "fig1 = plt.figure()\n",
        "ax = fig1.add_axes([0,0,0.5,0.5])\n",
        "ax.pie(a,autopct ='%.2f%%',labels = x1,shadow = True, radius= 2.0)\n",
        "ax.legend(loc = \"right\", bbox_to_anchor=(2,1.3,0,0))\n",
        "plt.show()"
      ],
      "execution_count": 46,
      "outputs": [
        {
          "output_type": "display_data",
          "data": {
            "image/png": "[encoded data removed]",
            "text/plain": [
              "<Figure size 432x288 with 1 Axes>"
            ]
          },
          "metadata": {
            "tags": []
          }
        }
      ]
    },
    {
      "cell_type": "markdown",
      "metadata": {
        "id": "vTx2HHhs8m9U",
        "colab_type": "text"
      },
      "source": [
        "# Reading Images with ImageDataGenerator with basic Augmentation\n",
        "\n",
        "The next step is to read images corresponding to respective datasets for tilt prediction in training and validation data. \n",
        "For this purpose, we are using ImageDataGenerator() class in keras.preprocessing.image package.\n",
        "We can perform various kinds of image augmentations while importing the images like rotation, zoom, horizontal and vertical flip, height-shift, width-shift, adjust brightness, rescaling etc.\n",
        "\n",
        "As we have a data with labels as directions/angles, its hard to perform many of the augmentation operations like flip, rotation etc because it will change the direction and orientation of image which then is out of synch with labels associated with them.\n",
        "\n",
        "Hence we are doing some basic Augmentation operations first to check the performance of the model on tilt prediction. If required, we can change those Augmentations to improve performance of model in model tuning phase.\n",
        "\n",
        "by using featurewise_center to True it will set featurewise mean to zerro for the dataset. then we are rescaling the data by using basic normalization (dividing by 255) and then by choosing data_format as 'channels_last' we are converting image into format [batch_size,image Height, image Width, No of channels].\n",
        "\n",
        "We are using method named 'flow_from_dataframe()' to read the images and labels from the dataframe. Here, we are converting all the images into 'grayscale' format so that we can extract most features from them and  to size (32x32) from their original size. As we are using classification approach for solving this problem our class mode should be 'categorical' and we are using standard batch size as 32. If required we can change the batch size to check the impact of it on the performance of a model.\n",
        "\n",
        "\n",
        "\n",
        "We are creating 3 ImageDataGenerators to read images from training dataset, validation dataset and test dataset and save them to corresponding generators.\n",
        "\n",
        "After that, we are creating a sample dataframe to check the training images and validation images after augmentation that happened during importing images.\n",
        "and tried to print some of the images with their encoded tilt label."
      ]
    },
    {
      "cell_type": "code",
      "metadata": {
        "id": "MlyLH6nsjZB3",
        "colab_type": "code",
        "colab": {}
      },
      "source": [
        "from tensorflow.keras.preprocessing.image import ImageDataGenerator\n",
        "\n",
        "def make_train_generator():\n",
        "  train_datagen = ImageDataGenerator(rescale=1./255,data_format='channels_last')\n",
        "  train_generator = train_datagen.flow_from_dataframe(\n",
        "          dataframe=X_train,\n",
        "          directory='/content/drive/My Drive/ColabNotebooks/DeepLearningLabs/Assignment1/Assign1/A1_data/modified_data/modified_data/',\n",
        "          x_col=\"filename\",\n",
        "          y_col=\"tilt\",\n",
        "          target_size=(32, 32),\n",
        "          batch_size=32,\n",
        "          color_mode=\"grayscale\",\n",
        "          class_mode='categorical',\n",
        "          shuffle = False)\n",
        "  return train_generator\n",
        "\n",
        "def make_val_generator():\n",
        "  val_datagen = ImageDataGenerator(rescale=1./255, data_format='channels_last')\n",
        "  val_generator = val_datagen.flow_from_dataframe(\n",
        "          dataframe=X_val,\n",
        "          directory='/content/drive/My Drive/ColabNotebooks/DeepLearningLabs/Assignment1/Assign1/A1_data/modified_data/modified_data/',\n",
        "          x_col=\"filename\",\n",
        "          y_col=\"tilt\",\n",
        "          target_size=(32, 32),\n",
        "          batch_size=32,\n",
        "          color_mode=\"grayscale\",\n",
        "          class_mode='categorical',\n",
        "          shuffle= False)\n",
        "  return val_generator\n",
        "\n",
        "def make_test_predict_generator():\n",
        "  test_datagen = ImageDataGenerator(rescale=1./255,data_format = 'channels_last')\n",
        "  test_generator = test_datagen.flow_from_dataframe(\n",
        "          dataframe= DF_Test,\n",
        "          directory='/content/drive/My Drive/ColabNotebooks/DeepLearningLabs/Assignment1/Assign1/A1_data/modified_data/modified_data/',\n",
        "          x_col=\"filename\",\n",
        "          target_size=(32, 32),\n",
        "          batch_size=32,\n",
        "          color_mode=\"grayscale\",\n",
        "          class_mode= None,\n",
        "          shuffle= False)\n",
        "  return test_generator\n",
        "\n",
        "\n",
        "train_dataset = tf.data.Dataset.from_generator(make_train_generator,output_types=(tf.float32, tf.float32), output_shapes=([32,32,32,1], [32,9]))\n",
        "validation_dataset = tf.data.Dataset.from_generator(make_val_generator,output_types=(tf.float32, tf.float32), output_shapes=([32,32,32,1], [32,9]))"
      ],
      "execution_count": 47,
      "outputs": []
    },
    {
      "cell_type": "markdown",
      "metadata": {
        "id": "ZgLMgfxqJmlJ",
        "colab_type": "text"
      },
      "source": [
        "We are printing random 6 of the augmented images to see if the augmentation takes place and data is generated from ImageDataGenerator. We can also see from below output that tilt labels are onne hot encoded."
      ]
    },
    {
      "cell_type": "code",
      "metadata": {
        "id": "g6Vx0_OHMcgq",
        "colab_type": "code",
        "colab": {
          "base_uri": "https://localhost:8080/",
          "height": 519
        },
        "outputId": "367902fe-83af-411f-ab57-a37973e419b6"
      },
      "source": [
        "plt.figure(figsize=(10,8))\n",
        "i=1\n",
        "for image,label in train_dataset.take(6):\n",
        "  plt.subplot(2,3,i)\n",
        "  plt.imshow(image[0,:,:,0])\n",
        "  plt.title(label[0,:].numpy())\n",
        "  i=i+1"
      ],
      "execution_count": 48,
      "outputs": [
        {
          "output_type": "stream",
          "text": [
            "Found 1860 validated image filenames belonging to 9 classes.\n"
          ],
          "name": "stdout"
        },
        {
          "output_type": "stream",
          "text": [
            "/usr/local/lib/python3.6/dist-packages/matplotlib/text.py:1165: FutureWarning: elementwise comparison failed; returning scalar instead, but in the future will perform elementwise comparison\n",
            "  if s != self._text:\n"
          ],
          "name": "stderr"
        },
        {
          "output_type": "display_data",
          "data": {
            "image/png": "[encoded data removed]",
            "text/plain": [
              "<Figure size 720x576 with 6 Axes>"
            ]
          },
          "metadata": {
            "tags": [],
            "needs_background": "light"
          }
        }
      ]
    },
    {
      "cell_type": "markdown",
      "metadata": {
        "id": "lBbtQIRLKBPB",
        "colab_type": "text"
      },
      "source": [
        "# Building a Deep Convolutional Network.\n",
        "\n",
        "* Before building a CNN model, the first step is to decide an error metric and performance metric for our project. As we know our problem is to predict tilt class for the images. As we see above that tilt label have 9 different class values, we will simply consider Categorical Crossentropy as our error metric and Accuracy as our performance metric.\n",
        "\n",
        "*  We First consider the traditional LeNet5 Architechture to build our model with some changes in the number of layers and number of trainable parameters.\n",
        "**LeNet5** is CNN classic architechture that existed for so lonag and is used for prediction of hand written notes. The below developed model takes inspiration from it but with some advancements in case of number of layers, Kernel size, Stride size and Activation functions ('Relu' is used instead of  'Sigmoid' as we are using Stochastic Gradient Descent optimization for our model).\n",
        "\n",
        "* We will first go with a simple CNN architechture consisting of 3 Convolutional layers and 2 dense layers. we are using non-linear activation function as 'Relu' (Rectified Linear unit) which fits good with the optimizer 'Adam()' which is the advanced version of stochastic Gradient Descent.\n",
        "\n",
        "* The next step is while disigning the model, we are using extraction power of partially build model to disign both tilt_model and pan_model. That means, we are designing a models which uses same convolutional layers and use same power to extract features for tilt and pan prediction both. \n",
        "\n",
        "* To build this architachture, we are defining 3 functions. First function will return partially buid model till Convolutional layers. Second function is specific to generate tilt prediction model and thirst function is specific to the pan prediction model.\n",
        "\n",
        "* We are using maxpooling layers with stride (2, 2) to achieve maximum from the feature extraction and to avoid overfiiting the model has some Kernel L2 regularizers and dropout layers.\n",
        "\n",
        "* In the end we are using 'softmax' activation function to predict class labels for tilt and pan.\n",
        "\n",
        "* we will built and run this simple basic model on train and validation data to check if this model is overfitting and then we will try some hyper parameter tuning to achieve some more from the model if the model is giving low performance.\n"
      ]
    },
    {
      "cell_type": "code",
      "metadata": {
        "id": "gZHvDg68jZFb",
        "colab_type": "code",
        "colab": {}
      },
      "source": [
        "from tensorflow.keras.models import Sequential\n",
        "from tensorflow.keras.layers import Conv2D, MaxPooling2D, Lambda, Input\n",
        "from tensorflow.keras.layers import Activation, Dropout, Flatten, Dense\n",
        "from tensorflow.keras.metrics import categorical_accuracy\n",
        "from tensorflow.keras import regularizers, optimizers\n",
        "\n",
        "def get_conv_model():\n",
        "  model_cnn = Sequential()\n",
        "\n",
        "  # input\n",
        "  model_cnn.add(Input(shape=(32,32,1)))\n",
        "\n",
        "  # Conv Layer 1\n",
        "  model_cnn.add(Conv2D(64, (3, 3),kernel_regularizer=regularizers.l2(0.0001)))\n",
        "  model_cnn.add(Activation('relu'))\n",
        "  model_cnn.add(MaxPooling2D(pool_size=(2, 2)))\n",
        "\n",
        "  # Conv Layer 2 \n",
        "  model_cnn.add(Conv2D(128, (3, 3),kernel_regularizer=regularizers.l2(0.001)))\n",
        "  model_cnn.add(Activation('relu'))\n",
        "  \n",
        "  # Conv Layer 3\n",
        "  model_cnn.add(Conv2D(256, (3, 3),kernel_regularizer=regularizers.l2(0.001)))\n",
        "  model_cnn.add(Activation('relu'))\n",
        "  model_cnn.add(MaxPooling2D(pool_size=(2, 2)))\n",
        "\n",
        "  return model_cnn\n",
        "\n",
        "def tilt_model():\n",
        "\n",
        "  # to get basic Convolutional model\n",
        "  model_cnn = get_conv_model()\n",
        "\n",
        "  # MLP\n",
        "  model_cnn.add(Flatten())  # this converts our 3D feature maps to 1D feature vectors\n",
        "  model_cnn.add(Dropout(0.5))\n",
        "  model_cnn.add(Dense(128))\n",
        "  model_cnn.add(Activation('relu'))\n",
        "  model_cnn.add(Dropout(0.5))\n",
        "  model_cnn.add(Dense(9))\n",
        "  model_cnn.add(Activation('softmax'))\n",
        "\n",
        "  return model_cnn\n",
        "\n",
        "def pan_model():\n",
        "\n",
        "  # to get basic covolutional model\n",
        "  model_cnn = get_conv_model()\n",
        "\n",
        "  #Conv Layer 4\n",
        "  #model_cnn.add(Conv2D(256, (3, 3),kernel_regularizer=regularizers.l2(0.01)))\n",
        "  #model_cnn.add(Activation('relu'))\n",
        "  #model_cnn.add(MaxPooling2D(pool_size=(2, 2)))\n",
        "\n",
        "  # MLP\n",
        "  model_cnn.add(Flatten())  # this converts our 3D feature maps to 1D feature vectors\n",
        "  model_cnn.add(Dropout(0.5))\n",
        "  model_cnn.add(Dense(128))\n",
        "  model_cnn.add(Activation('relu'))\n",
        "  model_cnn.add(Dense(64))\n",
        "  model_cnn.add(Activation('relu'))\n",
        "  model_cnn.add(Dropout(0.5))\n",
        "  model_cnn.add(Dense(13))\n",
        "  model_cnn.add(Activation('softmax'))\n",
        "\n",
        "  return model_cnn"
      ],
      "execution_count": 101,
      "outputs": []
    },
    {
      "cell_type": "code",
      "metadata": {
        "id": "6UQaIOcGjZHx",
        "colab_type": "code",
        "colab": {}
      },
      "source": [
        "m_histories = {}\n",
        "\n",
        "def get_callbacks(name):\n",
        "  return [\n",
        "    tf.keras.callbacks.TensorBoard(logdir/name),\n",
        "  ]\n",
        "\n",
        "model_tilt = tilt_model()  \n",
        "model_tilt.compile(optimizer = tf.keras.optimizers.Adam(),\n",
        "              loss=tf.losses.CategoricalCrossentropy(),\n",
        "              metrics=[tf.losses.CategoricalCrossentropy(name='CategoricalCrossentropy'), 'accuracy'])\n"
      ],
      "execution_count": 50,
      "outputs": []
    },
    {
      "cell_type": "markdown",
      "metadata": {
        "id": "AObN9sHirEQw",
        "colab_type": "text"
      },
      "source": [
        "In the next code cell we will show the model summary with output shape after each layer and number of trainable parameters after each layer in the above model.\n",
        "This will help us to understand model working more appropriately and help us in tuning the model if the performance is low (or overfitting occurs)."
      ]
    },
    {
      "cell_type": "code",
      "metadata": {
        "id": "KwgETLQFrEXM",
        "colab_type": "code",
        "colab": {
          "base_uri": "https://localhost:8080/",
          "height": 700
        },
        "outputId": "7eeb8f4b-1a0e-4062-d2e8-7b329ba87f32"
      },
      "source": [
        "model_tilt.summary()"
      ],
      "execution_count": 51,
      "outputs": [
        {
          "output_type": "stream",
          "text": [
            "Model: \"sequential_2\"\n",
            "_________________________________________________________________\n",
            "Layer (type)                 Output Shape              Param #   \n",
            "=================================================================\n",
            "conv2d_6 (Conv2D)            (None, 30, 30, 64)        640       \n",
            "_________________________________________________________________\n",
            "activation_11 (Activation)   (None, 30, 30, 64)        0         \n",
            "_________________________________________________________________\n",
            "max_pooling2d_4 (MaxPooling2 (None, 15, 15, 64)        0         \n",
            "_________________________________________________________________\n",
            "conv2d_7 (Conv2D)            (None, 13, 13, 128)       73856     \n",
            "_________________________________________________________________\n",
            "activation_12 (Activation)   (None, 13, 13, 128)       0         \n",
            "_________________________________________________________________\n",
            "conv2d_8 (Conv2D)            (None, 11, 11, 256)       295168    \n",
            "_________________________________________________________________\n",
            "activation_13 (Activation)   (None, 11, 11, 256)       0         \n",
            "_________________________________________________________________\n",
            "max_pooling2d_5 (MaxPooling2 (None, 5, 5, 256)         0         \n",
            "_________________________________________________________________\n",
            "flatten_2 (Flatten)          (None, 6400)              0         \n",
            "_________________________________________________________________\n",
            "dropout_4 (Dropout)          (None, 6400)              0         \n",
            "_________________________________________________________________\n",
            "dense_5 (Dense)              (None, 128)               819328    \n",
            "_________________________________________________________________\n",
            "activation_14 (Activation)   (None, 128)               0         \n",
            "_________________________________________________________________\n",
            "dropout_5 (Dropout)          (None, 128)               0         \n",
            "_________________________________________________________________\n",
            "dense_6 (Dense)              (None, 9)                 1161      \n",
            "_________________________________________________________________\n",
            "activation_15 (Activation)   (None, 9)                 0         \n",
            "=================================================================\n",
            "Total params: 1,190,153\n",
            "Trainable params: 1,190,153\n",
            "Non-trainable params: 0\n",
            "_________________________________________________________________\n"
          ],
          "name": "stdout"
        }
      ]
    },
    {
      "cell_type": "code",
      "metadata": {
        "id": "R8JZXyzfor0M",
        "colab_type": "code",
        "colab": {
          "base_uri": "https://localhost:8080/",
          "height": 1000
        },
        "outputId": "b7d24977-833f-48e7-81f1-f27335083e9b"
      },
      "source": [
        "train_generator = make_train_generator()\n",
        "val_generator = make_val_generator()\n",
        "m_histories['Tilt_Pred'] = model_tilt.fit_generator(train_generator, \n",
        "                                                    epochs=100, \n",
        "                                                    validation_data=val_generator, \n",
        "                                                    verbose=2, \n",
        "                                                    callbacks=get_callbacks('models/Tilt_Pred')\n",
        "                                                    )"
      ],
      "execution_count": 52,
      "outputs": [
        {
          "output_type": "stream",
          "text": [
            "Found 1860 validated image filenames belonging to 9 classes.\n",
            "Found 465 validated image filenames belonging to 9 classes.\n",
            "Epoch 1/100\n",
            "59/59 - 4s - loss: 2.1873 - CategoricalCrossentropy: 2.0659 - accuracy: 0.1677 - val_loss: 2.0422 - val_CategoricalCrossentropy: 1.9798 - val_accuracy: 0.2452\n",
            "Epoch 2/100\n",
            "59/59 - 4s - loss: 1.8841 - CategoricalCrossentropy: 1.8268 - accuracy: 0.2769 - val_loss: 1.6841 - val_CategoricalCrossentropy: 1.6304 - val_accuracy: 0.3634\n",
            "Epoch 3/100\n",
            "59/59 - 4s - loss: 1.6426 - CategoricalCrossentropy: 1.5909 - accuracy: 0.3704 - val_loss: 1.5543 - val_CategoricalCrossentropy: 1.5019 - val_accuracy: 0.4409\n",
            "Epoch 4/100\n",
            "59/59 - 4s - loss: 1.5097 - CategoricalCrossentropy: 1.4604 - accuracy: 0.4102 - val_loss: 1.4310 - val_CategoricalCrossentropy: 1.3789 - val_accuracy: 0.4839\n",
            "Epoch 5/100\n",
            "59/59 - 4s - loss: 1.4070 - CategoricalCrossentropy: 1.3568 - accuracy: 0.4624 - val_loss: 1.2937 - val_CategoricalCrossentropy: 1.2417 - val_accuracy: 0.5247\n",
            "Epoch 6/100\n",
            "59/59 - 4s - loss: 1.3130 - CategoricalCrossentropy: 1.2549 - accuracy: 0.4946 - val_loss: 1.2597 - val_CategoricalCrossentropy: 1.2047 - val_accuracy: 0.5634\n",
            "Epoch 7/100\n",
            "59/59 - 4s - loss: 1.2438 - CategoricalCrossentropy: 1.1842 - accuracy: 0.5263 - val_loss: 1.2069 - val_CategoricalCrossentropy: 1.1464 - val_accuracy: 0.5548\n",
            "Epoch 8/100\n",
            "59/59 - 4s - loss: 1.1922 - CategoricalCrossentropy: 1.1301 - accuracy: 0.5554 - val_loss: 1.1285 - val_CategoricalCrossentropy: 1.0693 - val_accuracy: 0.5914\n",
            "Epoch 9/100\n",
            "59/59 - 4s - loss: 1.1053 - CategoricalCrossentropy: 1.0391 - accuracy: 0.5806 - val_loss: 1.0556 - val_CategoricalCrossentropy: 0.9899 - val_accuracy: 0.6409\n",
            "Epoch 10/100\n",
            "59/59 - 4s - loss: 1.0819 - CategoricalCrossentropy: 1.0131 - accuracy: 0.5742 - val_loss: 1.0055 - val_CategoricalCrossentropy: 0.9431 - val_accuracy: 0.6581\n",
            "Epoch 11/100\n",
            "59/59 - 4s - loss: 1.0070 - CategoricalCrossentropy: 0.9362 - accuracy: 0.6156 - val_loss: 0.9446 - val_CategoricalCrossentropy: 0.8775 - val_accuracy: 0.6817\n",
            "Epoch 12/100\n",
            "59/59 - 4s - loss: 0.9873 - CategoricalCrossentropy: 0.9151 - accuracy: 0.6177 - val_loss: 0.9307 - val_CategoricalCrossentropy: 0.8604 - val_accuracy: 0.6645\n",
            "Epoch 13/100\n",
            "59/59 - 4s - loss: 0.9597 - CategoricalCrossentropy: 0.8805 - accuracy: 0.6398 - val_loss: 0.9081 - val_CategoricalCrossentropy: 0.8350 - val_accuracy: 0.6882\n",
            "Epoch 14/100\n",
            "59/59 - 4s - loss: 0.9086 - CategoricalCrossentropy: 0.8309 - accuracy: 0.6441 - val_loss: 0.8927 - val_CategoricalCrossentropy: 0.8211 - val_accuracy: 0.6882\n",
            "Epoch 15/100\n",
            "59/59 - 4s - loss: 0.8756 - CategoricalCrossentropy: 0.7920 - accuracy: 0.6817 - val_loss: 0.8981 - val_CategoricalCrossentropy: 0.8211 - val_accuracy: 0.6860\n",
            "Epoch 16/100\n",
            "59/59 - 4s - loss: 0.9068 - CategoricalCrossentropy: 0.8211 - accuracy: 0.6645 - val_loss: 0.8822 - val_CategoricalCrossentropy: 0.8095 - val_accuracy: 0.6946\n",
            "Epoch 17/100\n",
            "59/59 - 4s - loss: 0.8564 - CategoricalCrossentropy: 0.7685 - accuracy: 0.6747 - val_loss: 0.7892 - val_CategoricalCrossentropy: 0.7144 - val_accuracy: 0.7290\n",
            "Epoch 18/100\n",
            "59/59 - 4s - loss: 0.8563 - CategoricalCrossentropy: 0.7751 - accuracy: 0.6651 - val_loss: 0.8088 - val_CategoricalCrossentropy: 0.7298 - val_accuracy: 0.7204\n",
            "Epoch 19/100\n",
            "59/59 - 4s - loss: 0.8229 - CategoricalCrossentropy: 0.7354 - accuracy: 0.6952 - val_loss: 0.8238 - val_CategoricalCrossentropy: 0.7448 - val_accuracy: 0.7161\n",
            "Epoch 20/100\n",
            "59/59 - 4s - loss: 0.8114 - CategoricalCrossentropy: 0.7232 - accuracy: 0.7016 - val_loss: 0.8094 - val_CategoricalCrossentropy: 0.7302 - val_accuracy: 0.7183\n",
            "Epoch 21/100\n",
            "59/59 - 4s - loss: 0.7775 - CategoricalCrossentropy: 0.6868 - accuracy: 0.7108 - val_loss: 0.7620 - val_CategoricalCrossentropy: 0.6786 - val_accuracy: 0.7806\n",
            "Epoch 22/100\n",
            "59/59 - 4s - loss: 0.7713 - CategoricalCrossentropy: 0.6792 - accuracy: 0.7215 - val_loss: 0.7381 - val_CategoricalCrossentropy: 0.6580 - val_accuracy: 0.7462\n",
            "Epoch 23/100\n",
            "59/59 - 4s - loss: 0.7946 - CategoricalCrossentropy: 0.6994 - accuracy: 0.7172 - val_loss: 0.7640 - val_CategoricalCrossentropy: 0.6804 - val_accuracy: 0.7269\n",
            "Epoch 24/100\n",
            "59/59 - 4s - loss: 0.7574 - CategoricalCrossentropy: 0.6658 - accuracy: 0.7226 - val_loss: 0.7254 - val_CategoricalCrossentropy: 0.6428 - val_accuracy: 0.7462\n",
            "Epoch 25/100\n",
            "59/59 - 4s - loss: 0.7387 - CategoricalCrossentropy: 0.6428 - accuracy: 0.7376 - val_loss: 0.7641 - val_CategoricalCrossentropy: 0.6811 - val_accuracy: 0.7312\n",
            "Epoch 26/100\n",
            "59/59 - 4s - loss: 0.7492 - CategoricalCrossentropy: 0.6558 - accuracy: 0.7172 - val_loss: 0.7350 - val_CategoricalCrossentropy: 0.6505 - val_accuracy: 0.7484\n",
            "Epoch 27/100\n",
            "59/59 - 4s - loss: 0.6974 - CategoricalCrossentropy: 0.6002 - accuracy: 0.7468 - val_loss: 0.6923 - val_CategoricalCrossentropy: 0.6099 - val_accuracy: 0.7806\n",
            "Epoch 28/100\n",
            "59/59 - 4s - loss: 0.6864 - CategoricalCrossentropy: 0.5939 - accuracy: 0.7484 - val_loss: 0.6940 - val_CategoricalCrossentropy: 0.6083 - val_accuracy: 0.7720\n",
            "Epoch 29/100\n",
            "59/59 - 4s - loss: 0.7003 - CategoricalCrossentropy: 0.6119 - accuracy: 0.7565 - val_loss: 0.6934 - val_CategoricalCrossentropy: 0.6090 - val_accuracy: 0.7849\n",
            "Epoch 30/100\n",
            "59/59 - 4s - loss: 0.6779 - CategoricalCrossentropy: 0.5790 - accuracy: 0.7629 - val_loss: 0.7413 - val_CategoricalCrossentropy: 0.6523 - val_accuracy: 0.7548\n",
            "Epoch 31/100\n",
            "59/59 - 4s - loss: 0.6933 - CategoricalCrossentropy: 0.5939 - accuracy: 0.7452 - val_loss: 0.6666 - val_CategoricalCrossentropy: 0.5777 - val_accuracy: 0.8065\n",
            "Epoch 32/100\n",
            "59/59 - 4s - loss: 0.6721 - CategoricalCrossentropy: 0.5712 - accuracy: 0.7656 - val_loss: 0.6527 - val_CategoricalCrossentropy: 0.5652 - val_accuracy: 0.7914\n",
            "Epoch 33/100\n",
            "59/59 - 4s - loss: 0.6585 - CategoricalCrossentropy: 0.5585 - accuracy: 0.7742 - val_loss: 0.6517 - val_CategoricalCrossentropy: 0.5604 - val_accuracy: 0.8065\n",
            "Epoch 34/100\n",
            "59/59 - 4s - loss: 0.6164 - CategoricalCrossentropy: 0.5147 - accuracy: 0.7812 - val_loss: 0.6829 - val_CategoricalCrossentropy: 0.5896 - val_accuracy: 0.7699\n",
            "Epoch 35/100\n",
            "59/59 - 4s - loss: 0.6381 - CategoricalCrossentropy: 0.5409 - accuracy: 0.7715 - val_loss: 0.6528 - val_CategoricalCrossentropy: 0.5594 - val_accuracy: 0.8086\n",
            "Epoch 36/100\n",
            "59/59 - 4s - loss: 0.6309 - CategoricalCrossentropy: 0.5287 - accuracy: 0.7769 - val_loss: 0.6343 - val_CategoricalCrossentropy: 0.5433 - val_accuracy: 0.7935\n",
            "Epoch 37/100\n",
            "59/59 - 4s - loss: 0.5972 - CategoricalCrossentropy: 0.4980 - accuracy: 0.7892 - val_loss: 0.6309 - val_CategoricalCrossentropy: 0.5399 - val_accuracy: 0.8065\n",
            "Epoch 38/100\n",
            "59/59 - 4s - loss: 0.6437 - CategoricalCrossentropy: 0.5402 - accuracy: 0.7726 - val_loss: 0.6321 - val_CategoricalCrossentropy: 0.5409 - val_accuracy: 0.8086\n",
            "Epoch 39/100\n",
            "59/59 - 4s - loss: 0.6031 - CategoricalCrossentropy: 0.5048 - accuracy: 0.7984 - val_loss: 0.6164 - val_CategoricalCrossentropy: 0.5255 - val_accuracy: 0.7935\n",
            "Epoch 40/100\n",
            "59/59 - 4s - loss: 0.5728 - CategoricalCrossentropy: 0.4695 - accuracy: 0.8075 - val_loss: 0.6303 - val_CategoricalCrossentropy: 0.5429 - val_accuracy: 0.7935\n",
            "Epoch 41/100\n",
            "59/59 - 4s - loss: 0.5774 - CategoricalCrossentropy: 0.4766 - accuracy: 0.7962 - val_loss: 0.6311 - val_CategoricalCrossentropy: 0.5407 - val_accuracy: 0.7914\n",
            "Epoch 42/100\n",
            "59/59 - 4s - loss: 0.5544 - CategoricalCrossentropy: 0.4529 - accuracy: 0.8140 - val_loss: 0.5929 - val_CategoricalCrossentropy: 0.5009 - val_accuracy: 0.8086\n",
            "Epoch 43/100\n",
            "59/59 - 4s - loss: 0.5897 - CategoricalCrossentropy: 0.4881 - accuracy: 0.7989 - val_loss: 0.5960 - val_CategoricalCrossentropy: 0.5082 - val_accuracy: 0.8172\n",
            "Epoch 44/100\n",
            "59/59 - 4s - loss: 0.5527 - CategoricalCrossentropy: 0.4515 - accuracy: 0.8231 - val_loss: 0.6083 - val_CategoricalCrossentropy: 0.5162 - val_accuracy: 0.8108\n",
            "Epoch 45/100\n",
            "59/59 - 4s - loss: 0.5721 - CategoricalCrossentropy: 0.4709 - accuracy: 0.8065 - val_loss: 0.6020 - val_CategoricalCrossentropy: 0.5131 - val_accuracy: 0.8151\n",
            "Epoch 46/100\n",
            "59/59 - 4s - loss: 0.5560 - CategoricalCrossentropy: 0.4526 - accuracy: 0.8113 - val_loss: 0.6182 - val_CategoricalCrossentropy: 0.5233 - val_accuracy: 0.8258\n",
            "Epoch 47/100\n",
            "59/59 - 4s - loss: 0.5847 - CategoricalCrossentropy: 0.4825 - accuracy: 0.8022 - val_loss: 0.6368 - val_CategoricalCrossentropy: 0.5409 - val_accuracy: 0.7978\n",
            "Epoch 48/100\n",
            "59/59 - 4s - loss: 0.5603 - CategoricalCrossentropy: 0.4588 - accuracy: 0.8097 - val_loss: 0.6168 - val_CategoricalCrossentropy: 0.5226 - val_accuracy: 0.8043\n",
            "Epoch 49/100\n",
            "59/59 - 4s - loss: 0.5321 - CategoricalCrossentropy: 0.4432 - accuracy: 0.8274 - val_loss: 0.5941 - val_CategoricalCrossentropy: 0.5000 - val_accuracy: 0.8108\n",
            "Epoch 50/100\n",
            "59/59 - 4s - loss: 0.5360 - CategoricalCrossentropy: 0.4387 - accuracy: 0.8183 - val_loss: 0.5987 - val_CategoricalCrossentropy: 0.5063 - val_accuracy: 0.8065\n",
            "Epoch 51/100\n",
            "59/59 - 4s - loss: 0.5296 - CategoricalCrossentropy: 0.4340 - accuracy: 0.8242 - val_loss: 0.6252 - val_CategoricalCrossentropy: 0.5299 - val_accuracy: 0.8000\n",
            "Epoch 52/100\n",
            "59/59 - 4s - loss: 0.5134 - CategoricalCrossentropy: 0.4118 - accuracy: 0.8317 - val_loss: 0.6176 - val_CategoricalCrossentropy: 0.5272 - val_accuracy: 0.8065\n",
            "Epoch 53/100\n",
            "59/59 - 4s - loss: 0.5004 - CategoricalCrossentropy: 0.4009 - accuracy: 0.8328 - val_loss: 0.5576 - val_CategoricalCrossentropy: 0.4653 - val_accuracy: 0.8301\n",
            "Epoch 54/100\n",
            "59/59 - 4s - loss: 0.5018 - CategoricalCrossentropy: 0.4036 - accuracy: 0.8296 - val_loss: 0.6063 - val_CategoricalCrossentropy: 0.5122 - val_accuracy: 0.8151\n",
            "Epoch 55/100\n",
            "59/59 - 4s - loss: 0.5178 - CategoricalCrossentropy: 0.4187 - accuracy: 0.8312 - val_loss: 0.6189 - val_CategoricalCrossentropy: 0.5243 - val_accuracy: 0.8086\n",
            "Epoch 56/100\n",
            "59/59 - 4s - loss: 0.5040 - CategoricalCrossentropy: 0.4046 - accuracy: 0.8392 - val_loss: 0.6226 - val_CategoricalCrossentropy: 0.5257 - val_accuracy: 0.8194\n",
            "Epoch 57/100\n",
            "59/59 - 4s - loss: 0.5105 - CategoricalCrossentropy: 0.4107 - accuracy: 0.8387 - val_loss: 0.5865 - val_CategoricalCrossentropy: 0.4969 - val_accuracy: 0.8237\n",
            "Epoch 58/100\n",
            "59/59 - 4s - loss: 0.4927 - CategoricalCrossentropy: 0.3905 - accuracy: 0.8430 - val_loss: 0.5685 - val_CategoricalCrossentropy: 0.4783 - val_accuracy: 0.8430\n",
            "Epoch 59/100\n",
            "59/59 - 4s - loss: 0.5015 - CategoricalCrossentropy: 0.3995 - accuracy: 0.8280 - val_loss: 0.5542 - val_CategoricalCrossentropy: 0.4610 - val_accuracy: 0.8452\n",
            "Epoch 60/100\n",
            "59/59 - 4s - loss: 0.4771 - CategoricalCrossentropy: 0.3761 - accuracy: 0.8446 - val_loss: 0.5695 - val_CategoricalCrossentropy: 0.4795 - val_accuracy: 0.8280\n",
            "Epoch 61/100\n",
            "59/59 - 4s - loss: 0.5048 - CategoricalCrossentropy: 0.4026 - accuracy: 0.8355 - val_loss: 0.5661 - val_CategoricalCrossentropy: 0.4710 - val_accuracy: 0.8194\n",
            "Epoch 62/100\n",
            "59/59 - 4s - loss: 0.4865 - CategoricalCrossentropy: 0.3854 - accuracy: 0.8312 - val_loss: 0.5830 - val_CategoricalCrossentropy: 0.4903 - val_accuracy: 0.8301\n",
            "Epoch 63/100\n",
            "59/59 - 4s - loss: 0.4954 - CategoricalCrossentropy: 0.3932 - accuracy: 0.8317 - val_loss: 0.5775 - val_CategoricalCrossentropy: 0.4845 - val_accuracy: 0.8280\n",
            "Epoch 64/100\n",
            "59/59 - 4s - loss: 0.4952 - CategoricalCrossentropy: 0.3956 - accuracy: 0.8263 - val_loss: 0.5524 - val_CategoricalCrossentropy: 0.4647 - val_accuracy: 0.8387\n",
            "Epoch 65/100\n",
            "59/59 - 4s - loss: 0.4781 - CategoricalCrossentropy: 0.3824 - accuracy: 0.8430 - val_loss: 0.5905 - val_CategoricalCrossentropy: 0.4968 - val_accuracy: 0.8387\n",
            "Epoch 66/100\n",
            "59/59 - 4s - loss: 0.4693 - CategoricalCrossentropy: 0.3705 - accuracy: 0.8500 - val_loss: 0.5769 - val_CategoricalCrossentropy: 0.4842 - val_accuracy: 0.8323\n",
            "Epoch 67/100\n",
            "59/59 - 4s - loss: 0.4827 - CategoricalCrossentropy: 0.3809 - accuracy: 0.8435 - val_loss: 0.5699 - val_CategoricalCrossentropy: 0.4783 - val_accuracy: 0.8172\n",
            "Epoch 68/100\n",
            "59/59 - 4s - loss: 0.4627 - CategoricalCrossentropy: 0.3618 - accuracy: 0.8511 - val_loss: 0.5640 - val_CategoricalCrossentropy: 0.4711 - val_accuracy: 0.8495\n",
            "Epoch 69/100\n",
            "59/59 - 4s - loss: 0.4761 - CategoricalCrossentropy: 0.3753 - accuracy: 0.8403 - val_loss: 0.5537 - val_CategoricalCrossentropy: 0.4650 - val_accuracy: 0.8366\n",
            "Epoch 70/100\n",
            "59/59 - 4s - loss: 0.4645 - CategoricalCrossentropy: 0.3656 - accuracy: 0.8441 - val_loss: 0.5707 - val_CategoricalCrossentropy: 0.4786 - val_accuracy: 0.8473\n",
            "Epoch 71/100\n",
            "59/59 - 4s - loss: 0.4269 - CategoricalCrossentropy: 0.3268 - accuracy: 0.8602 - val_loss: 0.5333 - val_CategoricalCrossentropy: 0.4464 - val_accuracy: 0.8688\n",
            "Epoch 72/100\n",
            "59/59 - 4s - loss: 0.4304 - CategoricalCrossentropy: 0.3290 - accuracy: 0.8677 - val_loss: 0.5387 - val_CategoricalCrossentropy: 0.4488 - val_accuracy: 0.8495\n",
            "Epoch 73/100\n",
            "59/59 - 4s - loss: 0.4365 - CategoricalCrossentropy: 0.3365 - accuracy: 0.8634 - val_loss: 0.5171 - val_CategoricalCrossentropy: 0.4331 - val_accuracy: 0.8473\n",
            "Epoch 74/100\n",
            "59/59 - 4s - loss: 0.4513 - CategoricalCrossentropy: 0.3537 - accuracy: 0.8602 - val_loss: 0.5975 - val_CategoricalCrossentropy: 0.5046 - val_accuracy: 0.8108\n",
            "Epoch 75/100\n",
            "59/59 - 4s - loss: 0.4829 - CategoricalCrossentropy: 0.3876 - accuracy: 0.8355 - val_loss: 0.5207 - val_CategoricalCrossentropy: 0.4327 - val_accuracy: 0.8559\n",
            "Epoch 76/100\n",
            "59/59 - 4s - loss: 0.4454 - CategoricalCrossentropy: 0.3454 - accuracy: 0.8742 - val_loss: 0.5572 - val_CategoricalCrossentropy: 0.4625 - val_accuracy: 0.8452\n",
            "Epoch 77/100\n",
            "59/59 - 4s - loss: 0.4411 - CategoricalCrossentropy: 0.3427 - accuracy: 0.8634 - val_loss: 0.5311 - val_CategoricalCrossentropy: 0.4378 - val_accuracy: 0.8538\n",
            "Epoch 78/100\n",
            "59/59 - 4s - loss: 0.4433 - CategoricalCrossentropy: 0.3421 - accuracy: 0.8559 - val_loss: 0.5330 - val_CategoricalCrossentropy: 0.4401 - val_accuracy: 0.8624\n",
            "Epoch 79/100\n",
            "59/59 - 4s - loss: 0.4340 - CategoricalCrossentropy: 0.3335 - accuracy: 0.8683 - val_loss: 0.5301 - val_CategoricalCrossentropy: 0.4385 - val_accuracy: 0.8452\n",
            "Epoch 80/100\n",
            "59/59 - 4s - loss: 0.4199 - CategoricalCrossentropy: 0.3189 - accuracy: 0.8742 - val_loss: 0.5849 - val_CategoricalCrossentropy: 0.4912 - val_accuracy: 0.8301\n",
            "Epoch 81/100\n",
            "59/59 - 4s - loss: 0.4310 - CategoricalCrossentropy: 0.3308 - accuracy: 0.8613 - val_loss: 0.5125 - val_CategoricalCrossentropy: 0.4231 - val_accuracy: 0.8645\n",
            "Epoch 82/100\n",
            "59/59 - 4s - loss: 0.4227 - CategoricalCrossentropy: 0.3228 - accuracy: 0.8624 - val_loss: 0.5362 - val_CategoricalCrossentropy: 0.4494 - val_accuracy: 0.8516\n",
            "Epoch 83/100\n",
            "59/59 - 4s - loss: 0.4315 - CategoricalCrossentropy: 0.3333 - accuracy: 0.8559 - val_loss: 0.5052 - val_CategoricalCrossentropy: 0.4151 - val_accuracy: 0.8624\n",
            "Epoch 84/100\n",
            "59/59 - 4s - loss: 0.3938 - CategoricalCrossentropy: 0.2943 - accuracy: 0.8812 - val_loss: 0.4970 - val_CategoricalCrossentropy: 0.4069 - val_accuracy: 0.8731\n",
            "Epoch 85/100\n",
            "59/59 - 4s - loss: 0.4143 - CategoricalCrossentropy: 0.3166 - accuracy: 0.8699 - val_loss: 0.5296 - val_CategoricalCrossentropy: 0.4368 - val_accuracy: 0.8538\n",
            "Epoch 86/100\n",
            "59/59 - 4s - loss: 0.4145 - CategoricalCrossentropy: 0.3152 - accuracy: 0.8651 - val_loss: 0.5178 - val_CategoricalCrossentropy: 0.4263 - val_accuracy: 0.8473\n",
            "Epoch 87/100\n",
            "59/59 - 4s - loss: 0.4107 - CategoricalCrossentropy: 0.3124 - accuracy: 0.8737 - val_loss: 0.5722 - val_CategoricalCrossentropy: 0.4828 - val_accuracy: 0.8473\n",
            "Epoch 88/100\n",
            "59/59 - 4s - loss: 0.4202 - CategoricalCrossentropy: 0.3208 - accuracy: 0.8699 - val_loss: 0.5747 - val_CategoricalCrossentropy: 0.4877 - val_accuracy: 0.8495\n",
            "Epoch 89/100\n",
            "59/59 - 4s - loss: 0.4024 - CategoricalCrossentropy: 0.3052 - accuracy: 0.8849 - val_loss: 0.5323 - val_CategoricalCrossentropy: 0.4475 - val_accuracy: 0.8602\n",
            "Epoch 90/100\n",
            "59/59 - 4s - loss: 0.3997 - CategoricalCrossentropy: 0.3003 - accuracy: 0.8828 - val_loss: 0.5162 - val_CategoricalCrossentropy: 0.4254 - val_accuracy: 0.8688\n",
            "Epoch 91/100\n",
            "59/59 - 4s - loss: 0.4006 - CategoricalCrossentropy: 0.3011 - accuracy: 0.8790 - val_loss: 0.5329 - val_CategoricalCrossentropy: 0.4479 - val_accuracy: 0.8688\n",
            "Epoch 92/100\n",
            "59/59 - 4s - loss: 0.4026 - CategoricalCrossentropy: 0.3026 - accuracy: 0.8774 - val_loss: 0.5416 - val_CategoricalCrossentropy: 0.4525 - val_accuracy: 0.8710\n",
            "Epoch 93/100\n",
            "59/59 - 4s - loss: 0.3870 - CategoricalCrossentropy: 0.2894 - accuracy: 0.8941 - val_loss: 0.5554 - val_CategoricalCrossentropy: 0.4656 - val_accuracy: 0.8538\n",
            "Epoch 94/100\n",
            "59/59 - 4s - loss: 0.4102 - CategoricalCrossentropy: 0.3118 - accuracy: 0.8726 - val_loss: 0.5174 - val_CategoricalCrossentropy: 0.4309 - val_accuracy: 0.8581\n",
            "Epoch 95/100\n",
            "59/59 - 4s - loss: 0.4065 - CategoricalCrossentropy: 0.3085 - accuracy: 0.8737 - val_loss: 0.5262 - val_CategoricalCrossentropy: 0.4389 - val_accuracy: 0.8731\n",
            "Epoch 96/100\n",
            "59/59 - 4s - loss: 0.3886 - CategoricalCrossentropy: 0.2908 - accuracy: 0.8833 - val_loss: 0.5435 - val_CategoricalCrossentropy: 0.4547 - val_accuracy: 0.8452\n",
            "Epoch 97/100\n",
            "59/59 - 4s - loss: 0.3909 - CategoricalCrossentropy: 0.2945 - accuracy: 0.8785 - val_loss: 0.5452 - val_CategoricalCrossentropy: 0.4570 - val_accuracy: 0.8559\n",
            "Epoch 98/100\n",
            "59/59 - 4s - loss: 0.3704 - CategoricalCrossentropy: 0.2777 - accuracy: 0.8925 - val_loss: 0.5038 - val_CategoricalCrossentropy: 0.4165 - val_accuracy: 0.8581\n",
            "Epoch 99/100\n",
            "59/59 - 4s - loss: 0.3970 - CategoricalCrossentropy: 0.3030 - accuracy: 0.8780 - val_loss: 0.4937 - val_CategoricalCrossentropy: 0.4051 - val_accuracy: 0.8688\n",
            "Epoch 100/100\n",
            "59/59 - 4s - loss: 0.3934 - CategoricalCrossentropy: 0.2971 - accuracy: 0.8780 - val_loss: 0.5431 - val_CategoricalCrossentropy: 0.4605 - val_accuracy: 0.8473\n"
          ],
          "name": "stdout"
        }
      ]
    },
    {
      "cell_type": "markdown",
      "metadata": {
        "id": "3hGQflk4rts7",
        "colab_type": "text"
      },
      "source": [
        "We can see from the above training of a model that model is working fine with average accuracy of 85% which is good for tilt prediction. but the performance of a model is best visualised with error plot and accuracy plot which is also called learning curves.\n",
        "\n",
        "In the below cells, we are plotting learning curves of a model for error metric Categorical Crossextropy and performance metric Accuracy. We can see from these learning curves that our model is not overfitting and showing steady decrease in Categorical Crossentropy values which represents our model is working fine with predicting the tilt values."
      ]
    },
    {
      "cell_type": "code",
      "metadata": {
        "id": "RmKr6HiFosHz",
        "colab_type": "code",
        "colab": {
          "base_uri": "https://localhost:8080/",
          "height": 283
        },
        "outputId": "fdb9fadd-d78e-46ef-e535-31275e86f698"
      },
      "source": [
        "plotter(m_histories, ylim=[0.0, 5.0], metric = 'CategoricalCrossentropy')"
      ],
      "execution_count": 53,
      "outputs": [
        {
          "output_type": "display_data",
          "data": {
            "image/png": "[encoded data removed]",
            "text/plain": [
              "<Figure size 432x288 with 1 Axes>"
            ]
          },
          "metadata": {
            "tags": [],
            "needs_background": "light"
          }
        }
      ]
    },
    {
      "cell_type": "code",
      "metadata": {
        "id": "kHeCxuvAosXk",
        "colab_type": "code",
        "colab": {
          "base_uri": "https://localhost:8080/",
          "height": 283
        },
        "outputId": "c4c3036c-9c25-4c17-84c5-bb2c6336d165"
      },
      "source": [
        "plotter(m_histories, ylim=[0.0, 1.0], metric = 'accuracy')"
      ],
      "execution_count": 54,
      "outputs": [
        {
          "output_type": "display_data",
          "data": {
            "image/png": "[encoded data removed]",
            "text/plain": [
              "<Figure size 432x288 with 1 Axes>"
            ]
          },
          "metadata": {
            "tags": [],
            "needs_background": "light"
          }
        }
      ]
    },
    {
      "cell_type": "markdown",
      "metadata": {
        "id": "QNBCWoCg736D",
        "colab_type": "text"
      },
      "source": [
        "The next step is to predict the tilt labels for the images in 'test_data.csv'. For this we have imported thos images with test_generator which is ImageDataGenerator and then we will apply .predict function of our trained model to predict the tilt angles for unseen images.\n"
      ]
    },
    {
      "cell_type": "code",
      "metadata": {
        "id": "ohD3g9uMbRA3",
        "colab_type": "code",
        "colab": {
          "base_uri": "https://localhost:8080/",
          "height": 52
        },
        "outputId": "80cab6df-42ec-455f-8dd2-7062f68f44ba"
      },
      "source": [
        "test_generator = make_test_predict_generator()\n",
        "predictions = model_tilt.predict_generator(test_generator, verbose= 1)"
      ],
      "execution_count": 55,
      "outputs": [
        {
          "output_type": "stream",
          "text": [
            "Found 465 validated image filenames.\n",
            "15/15 [==============================] - 1s 49ms/step\n"
          ],
          "name": "stdout"
        }
      ]
    },
    {
      "cell_type": "markdown",
      "metadata": {
        "id": "wgAs670B8VE2",
        "colab_type": "text"
      },
      "source": [
        "We will use argmax function to return the predicted class values in readable format and then we are going to replace them with tilt labels as mentioned above while encoding them.\n"
      ]
    },
    {
      "cell_type": "code",
      "metadata": {
        "id": "8JA5loi-osgO",
        "colab_type": "code",
        "colab": {
          "base_uri": "https://localhost:8080/",
          "height": 214
        },
        "outputId": "e85da887-9ac4-44a2-e8ec-9d10a98d7dd1"
      },
      "source": [
        "tilt_result = pd.Series (np.argmax(predictions, axis=1).tolist()).replace({0:\"-90\" , 1:\"-60\", 2:\"-30\", 3:\"-15\", 4:\"0\", 5:\"15\", 6:\"30\", 7:\"60\", 8:\"90\"})\n",
        "tilt_result.head(10)"
      ],
      "execution_count": 56,
      "outputs": [
        {
          "output_type": "execute_result",
          "data": {
            "text/plain": [
              "0    60\n",
              "1    60\n",
              "2     0\n",
              "3    15\n",
              "4    15\n",
              "5    30\n",
              "6    60\n",
              "7    30\n",
              "8    60\n",
              "9    30\n",
              "dtype: object"
            ]
          },
          "metadata": {
            "tags": []
          },
          "execution_count": 56
        }
      ]
    },
    {
      "cell_type": "markdown",
      "metadata": {
        "id": "q8GpynddcFR8",
        "colab_type": "text"
      },
      "source": [
        "\n",
        "\n",
        "---\n",
        "\n",
        "# **Pan Prediction**\n",
        "\n",
        "We will do the similar functionality to check the distribution of pan class labels as we did it for tilt. We can see from below cells that, class labels for pan are almost equally distributed.\n",
        "we can see it more clearly with the help of small visualization of pie charts as drawn below.\n",
        "We can see that there are 13 different values for pan class label which we have to predict in this problem. \n",
        "In the starting cells awe divide the training data into training and validation datasets using train_test-split functionality. \n",
        "we encoded the values of pan class (-90, -75, -60, -45, -30, -15, 0, 15, 30, 45, 60, 75, 90)  as (0, 1, 2, 3, 4, 5, 6, 7, 8, 9, 10, 11, 12).\n"
      ]
    },
    {
      "cell_type": "code",
      "metadata": {
        "id": "oilJDtg6c3m5",
        "colab_type": "code",
        "colab": {
          "base_uri": "https://localhost:8080/",
          "height": 268
        },
        "outputId": "3c7d49bc-76af-42ac-ad78-cf31437f59f0"
      },
      "source": [
        "print(X_train['pan'].value_counts())"
      ],
      "execution_count": 85,
      "outputs": [
        {
          "output_type": "stream",
          "text": [
            "6     174\n",
            "12    147\n",
            "1     146\n",
            "11    144\n",
            "8     143\n",
            "2     143\n",
            "10    142\n",
            "9     142\n",
            "7     142\n",
            "5     137\n",
            "0     135\n",
            "3     133\n",
            "4     132\n",
            "Name: pan, dtype: int64\n"
          ],
          "name": "stdout"
        }
      ]
    },
    {
      "cell_type": "code",
      "metadata": {
        "id": "vJiriY_rc30H",
        "colab_type": "code",
        "colab": {
          "base_uri": "https://localhost:8080/",
          "height": 268
        },
        "outputId": "577534f8-128c-42df-9017-283e988f39cd"
      },
      "source": [
        "print(X_val['pan'].value_counts())"
      ],
      "execution_count": 86,
      "outputs": [
        {
          "output_type": "stream",
          "text": [
            "6     51\n",
            "4     43\n",
            "3     42\n",
            "0     40\n",
            "5     38\n",
            "7     33\n",
            "10    33\n",
            "9     33\n",
            "2     32\n",
            "8     32\n",
            "11    31\n",
            "1     29\n",
            "12    28\n",
            "Name: pan, dtype: int64\n"
          ],
          "name": "stdout"
        }
      ]
    },
    {
      "cell_type": "code",
      "metadata": {
        "id": "y7bDuaZVdMg5",
        "colab_type": "code",
        "colab": {
          "base_uri": "https://localhost:8080/",
          "height": 376
        },
        "outputId": "a2523123-8805-49a4-d2e4-b41868a79837"
      },
      "source": [
        "# Some exploration about tilt and pan which are labels \n",
        "a = X_train['pan'].value_counts()\n",
        "x1 = a.index\n",
        "fig1 = plt.figure()\n",
        "ax = fig1.add_axes([0,0,0.5,0.5])\n",
        "ax.pie(a,autopct ='%.2f%%',labels = x1,shadow = True, radius= 2.0)\n",
        "ax.legend(loc = \"right\", bbox_to_anchor=(2,1.3,0,0))\n",
        "plt.show()"
      ],
      "execution_count": 87,
      "outputs": [
        {
          "output_type": "display_data",
          "data": {
            "image/png": "[encoded data removed]",
            "text/plain": [
              "<Figure size 432x288 with 1 Axes>"
            ]
          },
          "metadata": {
            "tags": []
          }
        }
      ]
    },
    {
      "cell_type": "code",
      "metadata": {
        "id": "vLg-9z-2dMmq",
        "colab_type": "code",
        "colab": {
          "base_uri": "https://localhost:8080/",
          "height": 375
        },
        "outputId": "0dd2e79c-32ff-4f94-ae08-1b2978573a5b"
      },
      "source": [
        "# Some exploration about tilt and pan which are labels \n",
        "a = X_val['pan'].value_counts()\n",
        "x1 = a.index\n",
        "fig1 = plt.figure()\n",
        "ax = fig1.add_axes([0,0,0.5,0.5])\n",
        "ax.pie(a,autopct ='%.2f%%',labels = x1,shadow = True, radius= 2.0)\n",
        "ax.legend(loc = \"right\", bbox_to_anchor=(2,1.3,0,0))\n",
        "plt.show()"
      ],
      "execution_count": 88,
      "outputs": [
        {
          "output_type": "display_data",
          "data": {
            "image/png": "[encoded data removed]",
            "text/plain": [
              "<Figure size 432x288 with 1 Axes>"
            ]
          },
          "metadata": {
            "tags": []
          }
        }
      ]
    },
    {
      "cell_type": "markdown",
      "metadata": {
        "id": "aBlJI56T-b3Z",
        "colab_type": "text"
      },
      "source": [
        "# Reading Images with ImageDataGenerator with basic Augmentation\n",
        "\n",
        "The next step is to read images corresponding to respective datasets for pan prediction in training and validation data. \n",
        "We can perform various kinds of image augmentations while importing the images like rotation, zoom, horizontal and vertical flip, height-shift, width-shift, adjust brightness, rescaling etc.\n",
        "\n",
        "As we have a data with labels as directions/angles, its hard to perform many of the augmentation operations like flip, rotation etc because it will change the direction and orientation of image which then is out of synch with labels associated with them.\n",
        "\n",
        "Hence we are doing some basic Augmentation operations first to check the performance of the model on pan prediction. If required, we can change those Augmentations to improve performance of model in model tuning phase.\n",
        "\n",
        "we shift the Height range by 0.1 just to fit the whole image in (32,32) format. then we are rescaling the data by using basic normalization (dividing by 255) and then by choosing data_format as 'channels_last' we are converting image into format [batch_size,image Height, image Width, No of channels]."
      ]
    },
    {
      "cell_type": "code",
      "metadata": {
        "id": "vsW19Hxwc39t",
        "colab_type": "code",
        "colab": {}
      },
      "source": [
        "def make_pan_train_generator():\n",
        "  train_datagen = ImageDataGenerator(rescale=1./255,data_format='channels_last')\n",
        "  train_generator = train_datagen.flow_from_dataframe(\n",
        "          dataframe=X_train,\n",
        "          directory='/content/drive/My Drive/ColabNotebooks/DeepLearningLabs/Assignment1/Assign1/A1_data/modified_data/modified_data/',\n",
        "          x_col=\"filename\",\n",
        "          y_col=\"pan\",\n",
        "          target_size=(32, 32),\n",
        "          batch_size=32,\n",
        "          color_mode=\"grayscale\",\n",
        "          class_mode='categorical',\n",
        "          shuffle = False)\n",
        "  return train_generator\n",
        "\n",
        "\n",
        "def make_pan_val_generator():\n",
        "  val_datagen = ImageDataGenerator(rescale=1./255, data_format='channels_last')\n",
        "  val_generator = val_datagen.flow_from_dataframe(\n",
        "          dataframe=X_val,\n",
        "          directory='/content/drive/My Drive/ColabNotebooks/DeepLearningLabs/Assignment1/Assign1/A1_data/modified_data/modified_data/',\n",
        "          x_col=\"filename\",\n",
        "          y_col=\"pan\",\n",
        "          target_size=(32, 32),\n",
        "          batch_size=32,\n",
        "          color_mode=\"grayscale\",\n",
        "          class_mode='categorical',\n",
        "          shuffle= False)\n",
        "  return val_generator\n",
        "\n",
        "train_dataset = tf.data.Dataset.from_generator(make_pan_train_generator,output_types=(tf.float32, tf.float32), output_shapes=([32,32,32,1], [32,13]))\n",
        "validation_dataset = tf.data.Dataset.from_generator(make_pan_val_generator,output_types=(tf.float32, tf.float32), output_shapes=([32,32,32,1], [32,13]))"
      ],
      "execution_count": 102,
      "outputs": []
    },
    {
      "cell_type": "markdown",
      "metadata": {
        "id": "GFBqPhBH_GKF",
        "colab_type": "text"
      },
      "source": [
        "We can see some sample images from the created datasets to check if the augmentation and importing part is done correctly.\n",
        "We can see from the output that,  the images are imported and augmented correctly and are in grayscale format as well."
      ]
    },
    {
      "cell_type": "code",
      "metadata": {
        "id": "ntDq4Ef8dvPr",
        "colab_type": "code",
        "colab": {
          "base_uri": "https://localhost:8080/",
          "height": 553
        },
        "outputId": "3321a581-91e4-4d5b-fda2-3a3397cd96e1"
      },
      "source": [
        "plt.figure(figsize=(15,8))\n",
        "i=1\n",
        "for image,label in train_dataset.take(6):\n",
        "  plt.subplot(2,3,i)\n",
        "  plt.imshow(image[0,:,:,0])\n",
        "  plt.title(label[0,:].numpy())\n",
        "  i=i+1"
      ],
      "execution_count": 103,
      "outputs": [
        {
          "output_type": "stream",
          "text": [
            "Found 1860 validated image filenames belonging to 13 classes.\n"
          ],
          "name": "stdout"
        },
        {
          "output_type": "stream",
          "text": [
            "/usr/local/lib/python3.6/dist-packages/matplotlib/text.py:1165: FutureWarning: elementwise comparison failed; returning scalar instead, but in the future will perform elementwise comparison\n",
            "  if s != self._text:\n"
          ],
          "name": "stderr"
        },
        {
          "output_type": "display_data",
          "data": {
            "image/png": "[encoded data removed]",
            "text/plain": [
              "<Figure size 1080x576 with 6 Axes>"
            ]
          },
          "metadata": {
            "tags": [],
            "needs_background": "light"
          }
        }
      ]
    },
    {
      "cell_type": "markdown",
      "metadata": {
        "id": "eGf-GPMD_j5i",
        "colab_type": "text"
      },
      "source": [
        "# Build and Compilation of pan prediction model\n",
        "\n",
        "As stated above we are using power of partially built model for tilt prediction for pan prediction as well. That means wee are using same model till convolutional layers for pan prediction and hence we structured our pan model using functions stated above.\n",
        "\n",
        "We are using same error and performance metrics as that in tilt prediction which are CategoricalCrossentropy and Accuracy respectively.\n",
        "\n",
        "In the Pan model we are first build a model same as that of tilt but it gave us a lower performance and hence we came up with increasing some depth in the model by adding an extra dense layer to make it step-up and then step-down kind of model.\n",
        "\n",
        "Hence we are using 3 Dense layers in the architechture of pan model. Further, we have chosen 'Adam()' optimizer which works good with our non-linear activation function 'Relu' and which is an advanced version of Stochastic Gradient Descent algorithm used for the loss optimization."
      ]
    },
    {
      "cell_type": "code",
      "metadata": {
        "id": "nyGlhYR7dvcD",
        "colab_type": "code",
        "colab": {}
      },
      "source": [
        "m_histories = {}\n",
        "\n",
        "def get_callbacks(name):\n",
        "  return [\n",
        "    tf.keras.callbacks.TensorBoard(logdir/name),\n",
        "  ]\n",
        "\n",
        "model_pan = pan_model()  \n",
        "model_pan.compile(optimizer = tf.keras.optimizers.Adam(),\n",
        "              loss=tf.losses.CategoricalCrossentropy(),\n",
        "              metrics=[tf.losses.CategoricalCrossentropy(name='CategoricalCrossentropy'), 'accuracy'])"
      ],
      "execution_count": 104,
      "outputs": []
    },
    {
      "cell_type": "markdown",
      "metadata": {
        "id": "5APfEQoxBXdv",
        "colab_type": "text"
      },
      "source": [
        "We can see the network architechture more closely with the help of model summary. It will give us brief undersatanding of the output shape after each layer of a model and number of trainable parameters after each layer. "
      ]
    },
    {
      "cell_type": "code",
      "metadata": {
        "id": "ZuxJNbbvdvmd",
        "colab_type": "code",
        "colab": {
          "base_uri": "https://localhost:8080/",
          "height": 772
        },
        "outputId": "1b3366d4-accd-4dad-9372-72ff4f8af8ab"
      },
      "source": [
        "model_pan.summary()"
      ],
      "execution_count": 105,
      "outputs": [
        {
          "output_type": "stream",
          "text": [
            "Model: \"sequential_6\"\n",
            "_________________________________________________________________\n",
            "Layer (type)                 Output Shape              Param #   \n",
            "=================================================================\n",
            "conv2d_18 (Conv2D)           (None, 30, 30, 64)        640       \n",
            "_________________________________________________________________\n",
            "activation_34 (Activation)   (None, 30, 30, 64)        0         \n",
            "_________________________________________________________________\n",
            "max_pooling2d_12 (MaxPooling (None, 15, 15, 64)        0         \n",
            "_________________________________________________________________\n",
            "conv2d_19 (Conv2D)           (None, 13, 13, 128)       73856     \n",
            "_________________________________________________________________\n",
            "activation_35 (Activation)   (None, 13, 13, 128)       0         \n",
            "_________________________________________________________________\n",
            "conv2d_20 (Conv2D)           (None, 11, 11, 256)       295168    \n",
            "_________________________________________________________________\n",
            "activation_36 (Activation)   (None, 11, 11, 256)       0         \n",
            "_________________________________________________________________\n",
            "max_pooling2d_13 (MaxPooling (None, 5, 5, 256)         0         \n",
            "_________________________________________________________________\n",
            "flatten_6 (Flatten)          (None, 6400)              0         \n",
            "_________________________________________________________________\n",
            "dropout_12 (Dropout)         (None, 6400)              0         \n",
            "_________________________________________________________________\n",
            "dense_16 (Dense)             (None, 128)               819328    \n",
            "_________________________________________________________________\n",
            "activation_37 (Activation)   (None, 128)               0         \n",
            "_________________________________________________________________\n",
            "dense_17 (Dense)             (None, 64)                8256      \n",
            "_________________________________________________________________\n",
            "activation_38 (Activation)   (None, 64)                0         \n",
            "_________________________________________________________________\n",
            "dropout_13 (Dropout)         (None, 64)                0         \n",
            "_________________________________________________________________\n",
            "dense_18 (Dense)             (None, 13)                845       \n",
            "_________________________________________________________________\n",
            "activation_39 (Activation)   (None, 13)                0         \n",
            "=================================================================\n",
            "Total params: 1,198,093\n",
            "Trainable params: 1,198,093\n",
            "Non-trainable params: 0\n",
            "_________________________________________________________________\n"
          ],
          "name": "stdout"
        }
      ]
    },
    {
      "cell_type": "markdown",
      "metadata": {
        "id": "k_1lUK3XBzMR",
        "colab_type": "text"
      },
      "source": [
        "After compiling the model we can train our model for 100 epochs and store it to see the learning curves for our model. \n"
      ]
    },
    {
      "cell_type": "code",
      "metadata": {
        "id": "t06Zkno2dvxs",
        "colab_type": "code",
        "colab": {
          "base_uri": "https://localhost:8080/",
          "height": 1000
        },
        "outputId": "1ec132dc-15b2-4c9c-921e-bf04eba2b29a"
      },
      "source": [
        "train_generator = make_pan_train_generator()\n",
        "val_generator = make_pan_val_generator()\n",
        "m_histories['Pan_Pred'] = model_pan.fit_generator(train_generator, \n",
        "                                                    epochs=100, \n",
        "                                                    validation_data=val_generator, \n",
        "                                                    verbose=2, \n",
        "                                                    callbacks=get_callbacks('models/Pan_Pred')\n",
        "                                                    )"
      ],
      "execution_count": 106,
      "outputs": [
        {
          "output_type": "stream",
          "text": [
            "Found 1860 validated image filenames belonging to 13 classes.\n",
            "Found 465 validated image filenames belonging to 13 classes.\n",
            "Epoch 1/100\n",
            "59/59 - 4s - loss: 2.6869 - CategoricalCrossentropy: 2.5700 - accuracy: 0.0763 - val_loss: 2.6159 - val_CategoricalCrossentropy: 2.5650 - val_accuracy: 0.1097\n",
            "Epoch 2/100\n",
            "59/59 - 4s - loss: 2.5982 - CategoricalCrossentropy: 2.5648 - accuracy: 0.0801 - val_loss: 2.5859 - val_CategoricalCrossentropy: 2.5652 - val_accuracy: 0.1097\n",
            "Epoch 3/100\n",
            "59/59 - 4s - loss: 2.5794 - CategoricalCrossentropy: 2.5649 - accuracy: 0.0909 - val_loss: 2.5738 - val_CategoricalCrossentropy: 2.5642 - val_accuracy: 0.1097\n",
            "Epoch 4/100\n",
            "59/59 - 4s - loss: 2.5710 - CategoricalCrossentropy: 2.5641 - accuracy: 0.0935 - val_loss: 2.5685 - val_CategoricalCrossentropy: 2.5637 - val_accuracy: 0.1097\n",
            "Epoch 5/100\n",
            "59/59 - 4s - loss: 2.5684 - CategoricalCrossentropy: 2.5645 - accuracy: 0.0946 - val_loss: 2.5658 - val_CategoricalCrossentropy: 2.5630 - val_accuracy: 0.1097\n",
            "Epoch 6/100\n",
            "59/59 - 4s - loss: 2.5368 - CategoricalCrossentropy: 2.5329 - accuracy: 0.1011 - val_loss: 2.4970 - val_CategoricalCrossentropy: 2.4918 - val_accuracy: 0.1419\n",
            "Epoch 7/100\n",
            "59/59 - 4s - loss: 2.3130 - CategoricalCrossentropy: 2.3022 - accuracy: 0.1586 - val_loss: 1.9011 - val_CategoricalCrossentropy: 1.9011 - val_accuracy: 0.2731\n",
            "Epoch 8/100\n",
            "59/59 - 4s - loss: 1.9780 - CategoricalCrossentropy: 1.9633 - accuracy: 0.2328 - val_loss: 1.7157 - val_CategoricalCrossentropy: 1.7093 - val_accuracy: 0.3355\n",
            "Epoch 9/100\n",
            "59/59 - 4s - loss: 1.8368 - CategoricalCrossentropy: 1.8297 - accuracy: 0.2613 - val_loss: 1.6877 - val_CategoricalCrossentropy: 1.6793 - val_accuracy: 0.3032\n",
            "Epoch 10/100\n",
            "59/59 - 4s - loss: 1.7304 - CategoricalCrossentropy: 1.7233 - accuracy: 0.2962 - val_loss: 1.7157 - val_CategoricalCrossentropy: 1.7021 - val_accuracy: 0.2882\n",
            "Epoch 11/100\n",
            "59/59 - 4s - loss: 1.6858 - CategoricalCrossentropy: 1.6652 - accuracy: 0.3022 - val_loss: 1.5486 - val_CategoricalCrossentropy: 1.5356 - val_accuracy: 0.3484\n",
            "Epoch 12/100\n",
            "59/59 - 4s - loss: 1.6104 - CategoricalCrossentropy: 1.5928 - accuracy: 0.3183 - val_loss: 1.5158 - val_CategoricalCrossentropy: 1.5037 - val_accuracy: 0.3849\n",
            "Epoch 13/100\n",
            "59/59 - 4s - loss: 1.5838 - CategoricalCrossentropy: 1.5648 - accuracy: 0.3565 - val_loss: 1.4844 - val_CategoricalCrossentropy: 1.4722 - val_accuracy: 0.3742\n",
            "Epoch 14/100\n",
            "59/59 - 4s - loss: 1.5171 - CategoricalCrossentropy: 1.5007 - accuracy: 0.3462 - val_loss: 1.4359 - val_CategoricalCrossentropy: 1.4239 - val_accuracy: 0.4172\n",
            "Epoch 15/100\n",
            "59/59 - 4s - loss: 1.4904 - CategoricalCrossentropy: 1.4668 - accuracy: 0.3704 - val_loss: 1.3523 - val_CategoricalCrossentropy: 1.3363 - val_accuracy: 0.4323\n",
            "Epoch 16/100\n",
            "59/59 - 4s - loss: 1.4346 - CategoricalCrossentropy: 1.4060 - accuracy: 0.3688 - val_loss: 1.3533 - val_CategoricalCrossentropy: 1.3366 - val_accuracy: 0.4108\n",
            "Epoch 17/100\n",
            "59/59 - 4s - loss: 1.4123 - CategoricalCrossentropy: 1.3827 - accuracy: 0.3753 - val_loss: 1.3040 - val_CategoricalCrossentropy: 1.2857 - val_accuracy: 0.4387\n",
            "Epoch 18/100\n",
            "59/59 - 4s - loss: 1.3855 - CategoricalCrossentropy: 1.3618 - accuracy: 0.4043 - val_loss: 1.3590 - val_CategoricalCrossentropy: 1.3375 - val_accuracy: 0.4237\n",
            "Epoch 19/100\n",
            "59/59 - 4s - loss: 1.3513 - CategoricalCrossentropy: 1.3212 - accuracy: 0.4247 - val_loss: 1.2464 - val_CategoricalCrossentropy: 1.2207 - val_accuracy: 0.4817\n",
            "Epoch 20/100\n",
            "59/59 - 4s - loss: 1.3641 - CategoricalCrossentropy: 1.3359 - accuracy: 0.4247 - val_loss: 1.2879 - val_CategoricalCrossentropy: 1.2630 - val_accuracy: 0.4301\n",
            "Epoch 21/100\n",
            "59/59 - 4s - loss: 1.3105 - CategoricalCrossentropy: 1.2797 - accuracy: 0.4360 - val_loss: 1.2188 - val_CategoricalCrossentropy: 1.1947 - val_accuracy: 0.4903\n",
            "Epoch 22/100\n",
            "59/59 - 4s - loss: 1.2922 - CategoricalCrossentropy: 1.2570 - accuracy: 0.4532 - val_loss: 1.2205 - val_CategoricalCrossentropy: 1.1930 - val_accuracy: 0.4710\n",
            "Epoch 23/100\n",
            "59/59 - 4s - loss: 1.2680 - CategoricalCrossentropy: 1.2340 - accuracy: 0.4516 - val_loss: 1.1790 - val_CategoricalCrossentropy: 1.1490 - val_accuracy: 0.5075\n",
            "Epoch 24/100\n",
            "59/59 - 4s - loss: 1.2650 - CategoricalCrossentropy: 1.2249 - accuracy: 0.4581 - val_loss: 1.2077 - val_CategoricalCrossentropy: 1.1805 - val_accuracy: 0.5054\n",
            "Epoch 25/100\n",
            "59/59 - 4s - loss: 1.2257 - CategoricalCrossentropy: 1.1851 - accuracy: 0.4645 - val_loss: 1.2374 - val_CategoricalCrossentropy: 1.2096 - val_accuracy: 0.4538\n",
            "Epoch 26/100\n",
            "59/59 - 4s - loss: 1.2202 - CategoricalCrossentropy: 1.1791 - accuracy: 0.4699 - val_loss: 1.1903 - val_CategoricalCrossentropy: 1.1623 - val_accuracy: 0.5247\n",
            "Epoch 27/100\n",
            "59/59 - 4s - loss: 1.2238 - CategoricalCrossentropy: 1.1840 - accuracy: 0.4812 - val_loss: 1.1503 - val_CategoricalCrossentropy: 1.1201 - val_accuracy: 0.5398\n",
            "Epoch 28/100\n",
            "59/59 - 4s - loss: 1.1878 - CategoricalCrossentropy: 1.1458 - accuracy: 0.4946 - val_loss: 1.2605 - val_CategoricalCrossentropy: 1.2268 - val_accuracy: 0.4624\n",
            "Epoch 29/100\n",
            "59/59 - 4s - loss: 1.2252 - CategoricalCrossentropy: 1.1841 - accuracy: 0.4828 - val_loss: 1.1319 - val_CategoricalCrossentropy: 1.0930 - val_accuracy: 0.4839\n",
            "Epoch 30/100\n",
            "59/59 - 4s - loss: 1.1989 - CategoricalCrossentropy: 1.1517 - accuracy: 0.4855 - val_loss: 1.2117 - val_CategoricalCrossentropy: 1.1774 - val_accuracy: 0.4968\n",
            "Epoch 31/100\n",
            "59/59 - 4s - loss: 1.1411 - CategoricalCrossentropy: 1.0979 - accuracy: 0.5086 - val_loss: 1.1329 - val_CategoricalCrossentropy: 1.1024 - val_accuracy: 0.5441\n",
            "Epoch 32/100\n",
            "59/59 - 4s - loss: 1.1479 - CategoricalCrossentropy: 1.1118 - accuracy: 0.5156 - val_loss: 1.1067 - val_CategoricalCrossentropy: 1.0760 - val_accuracy: 0.5548\n",
            "Epoch 33/100\n",
            "59/59 - 4s - loss: 1.0981 - CategoricalCrossentropy: 1.0532 - accuracy: 0.5473 - val_loss: 1.0775 - val_CategoricalCrossentropy: 1.0422 - val_accuracy: 0.5570\n",
            "Epoch 34/100\n",
            "59/59 - 4s - loss: 1.0884 - CategoricalCrossentropy: 1.0485 - accuracy: 0.5398 - val_loss: 1.0537 - val_CategoricalCrossentropy: 1.0172 - val_accuracy: 0.5677\n",
            "Epoch 35/100\n",
            "59/59 - 4s - loss: 1.1312 - CategoricalCrossentropy: 1.0890 - accuracy: 0.5414 - val_loss: 1.0925 - val_CategoricalCrossentropy: 1.0556 - val_accuracy: 0.5720\n",
            "Epoch 36/100\n",
            "59/59 - 4s - loss: 1.1282 - CategoricalCrossentropy: 1.0840 - accuracy: 0.5280 - val_loss: 1.0685 - val_CategoricalCrossentropy: 1.0325 - val_accuracy: 0.5548\n",
            "Epoch 37/100\n",
            "59/59 - 4s - loss: 1.0574 - CategoricalCrossentropy: 1.0120 - accuracy: 0.5478 - val_loss: 1.0507 - val_CategoricalCrossentropy: 1.0164 - val_accuracy: 0.5677\n",
            "Epoch 38/100\n",
            "59/59 - 4s - loss: 1.0672 - CategoricalCrossentropy: 1.0209 - accuracy: 0.5462 - val_loss: 1.0878 - val_CategoricalCrossentropy: 1.0549 - val_accuracy: 0.5355\n",
            "Epoch 39/100\n",
            "59/59 - 4s - loss: 1.0489 - CategoricalCrossentropy: 1.0022 - accuracy: 0.5495 - val_loss: 1.0155 - val_CategoricalCrossentropy: 0.9783 - val_accuracy: 0.6000\n",
            "Epoch 40/100\n",
            "59/59 - 4s - loss: 1.0319 - CategoricalCrossentropy: 0.9853 - accuracy: 0.5656 - val_loss: 1.0365 - val_CategoricalCrossentropy: 0.9973 - val_accuracy: 0.5935\n",
            "Epoch 41/100\n",
            "59/59 - 4s - loss: 1.0191 - CategoricalCrossentropy: 0.9713 - accuracy: 0.5586 - val_loss: 1.0726 - val_CategoricalCrossentropy: 1.0392 - val_accuracy: 0.5398\n",
            "Epoch 42/100\n",
            "59/59 - 4s - loss: 1.0186 - CategoricalCrossentropy: 0.9731 - accuracy: 0.5661 - val_loss: 1.1019 - val_CategoricalCrossentropy: 1.0631 - val_accuracy: 0.5419\n",
            "Epoch 43/100\n",
            "59/59 - 4s - loss: 1.0501 - CategoricalCrossentropy: 1.0048 - accuracy: 0.5656 - val_loss: 1.0559 - val_CategoricalCrossentropy: 1.0174 - val_accuracy: 0.5806\n",
            "Epoch 44/100\n",
            "59/59 - 4s - loss: 0.9981 - CategoricalCrossentropy: 0.9524 - accuracy: 0.6000 - val_loss: 1.0299 - val_CategoricalCrossentropy: 0.9857 - val_accuracy: 0.5548\n",
            "Epoch 45/100\n",
            "59/59 - 4s - loss: 1.0085 - CategoricalCrossentropy: 0.9621 - accuracy: 0.5753 - val_loss: 1.0113 - val_CategoricalCrossentropy: 0.9701 - val_accuracy: 0.5892\n",
            "Epoch 46/100\n",
            "59/59 - 4s - loss: 1.0130 - CategoricalCrossentropy: 0.9657 - accuracy: 0.5796 - val_loss: 0.9941 - val_CategoricalCrossentropy: 0.9501 - val_accuracy: 0.5871\n",
            "Epoch 47/100\n",
            "59/59 - 4s - loss: 1.0050 - CategoricalCrossentropy: 0.9546 - accuracy: 0.5876 - val_loss: 1.1150 - val_CategoricalCrossentropy: 1.0735 - val_accuracy: 0.5505\n",
            "Epoch 48/100\n",
            "59/59 - 4s - loss: 1.0033 - CategoricalCrossentropy: 0.9561 - accuracy: 0.5790 - val_loss: 1.0147 - val_CategoricalCrossentropy: 0.9717 - val_accuracy: 0.5978\n",
            "Epoch 49/100\n",
            "59/59 - 4s - loss: 0.9791 - CategoricalCrossentropy: 0.9332 - accuracy: 0.6000 - val_loss: 1.0464 - val_CategoricalCrossentropy: 1.0005 - val_accuracy: 0.5462\n",
            "Epoch 50/100\n",
            "59/59 - 4s - loss: 0.9665 - CategoricalCrossentropy: 0.9252 - accuracy: 0.5914 - val_loss: 1.0625 - val_CategoricalCrossentropy: 1.0167 - val_accuracy: 0.5677\n",
            "Epoch 51/100\n",
            "59/59 - 4s - loss: 0.9543 - CategoricalCrossentropy: 0.9022 - accuracy: 0.5898 - val_loss: 1.0048 - val_CategoricalCrossentropy: 0.9668 - val_accuracy: 0.6043\n",
            "Epoch 52/100\n",
            "59/59 - 4s - loss: 0.9465 - CategoricalCrossentropy: 0.8947 - accuracy: 0.6129 - val_loss: 0.9718 - val_CategoricalCrossentropy: 0.9288 - val_accuracy: 0.6000\n",
            "Epoch 53/100\n",
            "59/59 - 4s - loss: 0.9651 - CategoricalCrossentropy: 0.9145 - accuracy: 0.5952 - val_loss: 0.9934 - val_CategoricalCrossentropy: 0.9499 - val_accuracy: 0.6022\n",
            "Epoch 54/100\n",
            "59/59 - 4s - loss: 0.9182 - CategoricalCrossentropy: 0.8699 - accuracy: 0.6177 - val_loss: 0.9672 - val_CategoricalCrossentropy: 0.9227 - val_accuracy: 0.5957\n",
            "Epoch 55/100\n",
            "59/59 - 4s - loss: 0.9502 - CategoricalCrossentropy: 0.9002 - accuracy: 0.6011 - val_loss: 0.9865 - val_CategoricalCrossentropy: 0.9362 - val_accuracy: 0.5935\n",
            "Epoch 56/100\n",
            "59/59 - 4s - loss: 0.9239 - CategoricalCrossentropy: 0.8777 - accuracy: 0.6242 - val_loss: 0.9649 - val_CategoricalCrossentropy: 0.9248 - val_accuracy: 0.6280\n",
            "Epoch 57/100\n",
            "59/59 - 4s - loss: 0.9158 - CategoricalCrossentropy: 0.8633 - accuracy: 0.6129 - val_loss: 0.9803 - val_CategoricalCrossentropy: 0.9328 - val_accuracy: 0.6086\n",
            "Epoch 58/100\n",
            "59/59 - 4s - loss: 0.9314 - CategoricalCrossentropy: 0.8833 - accuracy: 0.6032 - val_loss: 0.9682 - val_CategoricalCrossentropy: 0.9248 - val_accuracy: 0.6237\n",
            "Epoch 59/100\n",
            "59/59 - 4s - loss: 0.9361 - CategoricalCrossentropy: 0.8860 - accuracy: 0.6145 - val_loss: 1.0112 - val_CategoricalCrossentropy: 0.9635 - val_accuracy: 0.5849\n",
            "Epoch 60/100\n",
            "59/59 - 4s - loss: 0.9241 - CategoricalCrossentropy: 0.8691 - accuracy: 0.6183 - val_loss: 1.0109 - val_CategoricalCrossentropy: 0.9603 - val_accuracy: 0.6065\n",
            "Epoch 61/100\n",
            "59/59 - 4s - loss: 0.8953 - CategoricalCrossentropy: 0.8407 - accuracy: 0.6237 - val_loss: 0.9943 - val_CategoricalCrossentropy: 0.9472 - val_accuracy: 0.6151\n",
            "Epoch 62/100\n",
            "59/59 - 4s - loss: 0.9125 - CategoricalCrossentropy: 0.8583 - accuracy: 0.6172 - val_loss: 0.9830 - val_CategoricalCrossentropy: 0.9388 - val_accuracy: 0.6344\n",
            "Epoch 63/100\n",
            "59/59 - 4s - loss: 0.8868 - CategoricalCrossentropy: 0.8354 - accuracy: 0.6323 - val_loss: 1.0591 - val_CategoricalCrossentropy: 1.0103 - val_accuracy: 0.5634\n",
            "Epoch 64/100\n",
            "59/59 - 4s - loss: 0.8842 - CategoricalCrossentropy: 0.8338 - accuracy: 0.6237 - val_loss: 0.9944 - val_CategoricalCrossentropy: 0.9506 - val_accuracy: 0.5849\n",
            "Epoch 65/100\n",
            "59/59 - 4s - loss: 0.8711 - CategoricalCrossentropy: 0.8169 - accuracy: 0.6306 - val_loss: 1.0056 - val_CategoricalCrossentropy: 0.9642 - val_accuracy: 0.6086\n",
            "Epoch 66/100\n",
            "59/59 - 4s - loss: 0.8575 - CategoricalCrossentropy: 0.8085 - accuracy: 0.6457 - val_loss: 0.9897 - val_CategoricalCrossentropy: 0.9393 - val_accuracy: 0.5978\n",
            "Epoch 67/100\n",
            "59/59 - 4s - loss: 0.8941 - CategoricalCrossentropy: 0.8449 - accuracy: 0.6210 - val_loss: 1.0367 - val_CategoricalCrossentropy: 0.9934 - val_accuracy: 0.6000\n",
            "Epoch 68/100\n",
            "59/59 - 4s - loss: 0.8918 - CategoricalCrossentropy: 0.8327 - accuracy: 0.6392 - val_loss: 0.9700 - val_CategoricalCrossentropy: 0.9236 - val_accuracy: 0.6172\n",
            "Epoch 69/100\n",
            "59/59 - 4s - loss: 0.8374 - CategoricalCrossentropy: 0.7825 - accuracy: 0.6527 - val_loss: 0.9747 - val_CategoricalCrossentropy: 0.9245 - val_accuracy: 0.6129\n",
            "Epoch 70/100\n",
            "59/59 - 4s - loss: 0.8486 - CategoricalCrossentropy: 0.7956 - accuracy: 0.6441 - val_loss: 0.9921 - val_CategoricalCrossentropy: 0.9431 - val_accuracy: 0.6237\n",
            "Epoch 71/100\n",
            "59/59 - 4s - loss: 0.8549 - CategoricalCrossentropy: 0.8048 - accuracy: 0.6543 - val_loss: 0.9827 - val_CategoricalCrossentropy: 0.9369 - val_accuracy: 0.6237\n",
            "Epoch 72/100\n",
            "59/59 - 4s - loss: 0.8566 - CategoricalCrossentropy: 0.8058 - accuracy: 0.6457 - val_loss: 0.9794 - val_CategoricalCrossentropy: 0.9339 - val_accuracy: 0.6237\n",
            "Epoch 73/100\n",
            "59/59 - 4s - loss: 0.8480 - CategoricalCrossentropy: 0.7884 - accuracy: 0.6425 - val_loss: 0.9852 - val_CategoricalCrossentropy: 0.9353 - val_accuracy: 0.6108\n",
            "Epoch 74/100\n",
            "59/59 - 4s - loss: 0.8154 - CategoricalCrossentropy: 0.7602 - accuracy: 0.6554 - val_loss: 1.0045 - val_CategoricalCrossentropy: 0.9558 - val_accuracy: 0.6000\n",
            "Epoch 75/100\n",
            "59/59 - 4s - loss: 0.8617 - CategoricalCrossentropy: 0.8149 - accuracy: 0.6435 - val_loss: 0.9697 - val_CategoricalCrossentropy: 0.9233 - val_accuracy: 0.6301\n",
            "Epoch 76/100\n",
            "59/59 - 4s - loss: 0.8212 - CategoricalCrossentropy: 0.7653 - accuracy: 0.6780 - val_loss: 0.9730 - val_CategoricalCrossentropy: 0.9281 - val_accuracy: 0.6301\n",
            "Epoch 77/100\n",
            "59/59 - 4s - loss: 0.8009 - CategoricalCrossentropy: 0.7440 - accuracy: 0.6806 - val_loss: 0.9641 - val_CategoricalCrossentropy: 0.9138 - val_accuracy: 0.6301\n",
            "Epoch 78/100\n",
            "59/59 - 4s - loss: 0.8154 - CategoricalCrossentropy: 0.7601 - accuracy: 0.6554 - val_loss: 1.0590 - val_CategoricalCrossentropy: 1.0094 - val_accuracy: 0.5935\n",
            "Epoch 79/100\n",
            "59/59 - 4s - loss: 0.7869 - CategoricalCrossentropy: 0.7316 - accuracy: 0.6790 - val_loss: 0.9776 - val_CategoricalCrossentropy: 0.9306 - val_accuracy: 0.6086\n",
            "Epoch 80/100\n",
            "59/59 - 4s - loss: 0.8201 - CategoricalCrossentropy: 0.7677 - accuracy: 0.6661 - val_loss: 0.9746 - val_CategoricalCrossentropy: 0.9250 - val_accuracy: 0.6344\n",
            "Epoch 81/100\n",
            "59/59 - 4s - loss: 0.7896 - CategoricalCrossentropy: 0.7311 - accuracy: 0.6801 - val_loss: 0.9553 - val_CategoricalCrossentropy: 0.9127 - val_accuracy: 0.6430\n",
            "Epoch 82/100\n",
            "59/59 - 4s - loss: 0.7829 - CategoricalCrossentropy: 0.7251 - accuracy: 0.6828 - val_loss: 0.9997 - val_CategoricalCrossentropy: 0.9509 - val_accuracy: 0.6237\n",
            "Epoch 83/100\n",
            "59/59 - 4s - loss: 0.7497 - CategoricalCrossentropy: 0.6890 - accuracy: 0.6989 - val_loss: 1.0124 - val_CategoricalCrossentropy: 0.9610 - val_accuracy: 0.6172\n",
            "Epoch 84/100\n",
            "59/59 - 4s - loss: 0.7871 - CategoricalCrossentropy: 0.7320 - accuracy: 0.6672 - val_loss: 1.0048 - val_CategoricalCrossentropy: 0.9554 - val_accuracy: 0.6280\n",
            "Epoch 85/100\n",
            "59/59 - 4s - loss: 0.8000 - CategoricalCrossentropy: 0.7427 - accuracy: 0.6796 - val_loss: 0.9627 - val_CategoricalCrossentropy: 0.9124 - val_accuracy: 0.6301\n",
            "Epoch 86/100\n",
            "59/59 - 4s - loss: 0.7840 - CategoricalCrossentropy: 0.7283 - accuracy: 0.6844 - val_loss: 0.9864 - val_CategoricalCrossentropy: 0.9333 - val_accuracy: 0.6086\n",
            "Epoch 87/100\n",
            "59/59 - 4s - loss: 0.7652 - CategoricalCrossentropy: 0.7076 - accuracy: 0.7032 - val_loss: 0.9812 - val_CategoricalCrossentropy: 0.9293 - val_accuracy: 0.6430\n",
            "Epoch 88/100\n",
            "59/59 - 4s - loss: 0.7611 - CategoricalCrossentropy: 0.7050 - accuracy: 0.6957 - val_loss: 0.9880 - val_CategoricalCrossentropy: 0.9426 - val_accuracy: 0.6237\n",
            "Epoch 89/100\n",
            "59/59 - 4s - loss: 0.7629 - CategoricalCrossentropy: 0.7013 - accuracy: 0.6995 - val_loss: 1.0262 - val_CategoricalCrossentropy: 0.9777 - val_accuracy: 0.6065\n",
            "Epoch 90/100\n",
            "59/59 - 4s - loss: 0.8082 - CategoricalCrossentropy: 0.7560 - accuracy: 0.6763 - val_loss: 1.0103 - val_CategoricalCrossentropy: 0.9551 - val_accuracy: 0.5871\n",
            "Epoch 91/100\n",
            "59/59 - 4s - loss: 0.7758 - CategoricalCrossentropy: 0.7177 - accuracy: 0.6855 - val_loss: 0.9943 - val_CategoricalCrossentropy: 0.9411 - val_accuracy: 0.6043\n",
            "Epoch 92/100\n",
            "59/59 - 4s - loss: 0.7696 - CategoricalCrossentropy: 0.7089 - accuracy: 0.7054 - val_loss: 1.0286 - val_CategoricalCrossentropy: 0.9765 - val_accuracy: 0.6258\n",
            "Epoch 93/100\n",
            "59/59 - 4s - loss: 0.7687 - CategoricalCrossentropy: 0.7081 - accuracy: 0.6941 - val_loss: 0.9299 - val_CategoricalCrossentropy: 0.8750 - val_accuracy: 0.6409\n",
            "Epoch 94/100\n",
            "59/59 - 4s - loss: 0.7423 - CategoricalCrossentropy: 0.6827 - accuracy: 0.6957 - val_loss: 1.0131 - val_CategoricalCrossentropy: 0.9565 - val_accuracy: 0.6086\n",
            "Epoch 95/100\n",
            "59/59 - 4s - loss: 0.7142 - CategoricalCrossentropy: 0.6530 - accuracy: 0.7220 - val_loss: 0.9804 - val_CategoricalCrossentropy: 0.9292 - val_accuracy: 0.6301\n",
            "Epoch 96/100\n",
            "59/59 - 4s - loss: 0.7194 - CategoricalCrossentropy: 0.6597 - accuracy: 0.7177 - val_loss: 1.0349 - val_CategoricalCrossentropy: 0.9811 - val_accuracy: 0.6280\n",
            "Epoch 97/100\n",
            "59/59 - 4s - loss: 0.7510 - CategoricalCrossentropy: 0.6885 - accuracy: 0.6919 - val_loss: 1.0356 - val_CategoricalCrossentropy: 0.9800 - val_accuracy: 0.6258\n",
            "Epoch 98/100\n",
            "59/59 - 4s - loss: 0.7393 - CategoricalCrossentropy: 0.6777 - accuracy: 0.7124 - val_loss: 1.0180 - val_CategoricalCrossentropy: 0.9646 - val_accuracy: 0.6237\n",
            "Epoch 99/100\n",
            "59/59 - 4s - loss: 0.7452 - CategoricalCrossentropy: 0.6877 - accuracy: 0.7091 - val_loss: 0.9416 - val_CategoricalCrossentropy: 0.8861 - val_accuracy: 0.6151\n",
            "Epoch 100/100\n",
            "59/59 - 4s - loss: 0.7551 - CategoricalCrossentropy: 0.6974 - accuracy: 0.6995 - val_loss: 1.0501 - val_CategoricalCrossentropy: 1.0012 - val_accuracy: 0.6409\n"
          ],
          "name": "stdout"
        }
      ]
    },
    {
      "cell_type": "markdown",
      "metadata": {
        "id": "CE5mygibd3GG",
        "colab_type": "text"
      },
      "source": [
        "We can similarly check the learning curve for pan prediction of error metric as well as for performance metric.\n",
        "We can see that, the pan prediction model is performing with almost 70% validation data accuracy. \n"
      ]
    },
    {
      "cell_type": "code",
      "metadata": {
        "id": "szIjkN-khDPY",
        "colab_type": "code",
        "colab": {
          "base_uri": "https://localhost:8080/",
          "height": 283
        },
        "outputId": "7fea9468-33e9-498b-ce3e-050e5a69f368"
      },
      "source": [
        "plotter(m_histories, ylim=[0.0, 5.0], metric = 'CategoricalCrossentropy')"
      ],
      "execution_count": 107,
      "outputs": [
        {
          "output_type": "display_data",
          "data": {
            "image/png": "[encoded data removed]",
            "text/plain": [
              "<Figure size 432x288 with 1 Axes>"
            ]
          },
          "metadata": {
            "tags": [],
            "needs_background": "light"
          }
        }
      ]
    },
    {
      "cell_type": "code",
      "metadata": {
        "id": "MgP1jRL_hDaQ",
        "colab_type": "code",
        "colab": {
          "base_uri": "https://localhost:8080/",
          "height": 283
        },
        "outputId": "2e497086-a5a4-45ab-f04a-a4ef38325c4f"
      },
      "source": [
        "plotter(m_histories, ylim=[0.0, 1.0], metric = 'accuracy')"
      ],
      "execution_count": 108,
      "outputs": [
        {
          "output_type": "display_data",
          "data": {
            "image/png": "[encoded data removed]",
            "text/plain": [
              "<Figure size 432x288 with 1 Axes>"
            ]
          },
          "metadata": {
            "tags": [],
            "needs_background": "light"
          }
        }
      ]
    },
    {
      "cell_type": "markdown",
      "metadata": {
        "id": "HVRnssa9eZ6t",
        "colab_type": "text"
      },
      "source": [
        "The next step is to predict the pan labels for 'test_data.csv' file images. For this we are using 'mode.predict_generator' function which takes in the test generator created above and predict the pan labels for them.\n",
        "\n",
        "Then next step is to convert them into readable format an decode them to the class values."
      ]
    },
    {
      "cell_type": "code",
      "metadata": {
        "id": "5eDKBl2tI3jL",
        "colab_type": "code",
        "colab": {
          "base_uri": "https://localhost:8080/",
          "height": 52
        },
        "outputId": "209e7002-17d3-496a-c84f-ee3e4beca5b7"
      },
      "source": [
        "test_generator = make_test_predict_generator()\n",
        "predictions = model_pan.predict_generator(test_generator, verbose= 1)"
      ],
      "execution_count": 109,
      "outputs": [
        {
          "output_type": "stream",
          "text": [
            "Found 465 validated image filenames.\n",
            "15/15 [==============================] - 1s 48ms/step\n"
          ],
          "name": "stdout"
        }
      ]
    },
    {
      "cell_type": "code",
      "metadata": {
        "id": "K99tjEZMJFao",
        "colab_type": "code",
        "colab": {
          "base_uri": "https://localhost:8080/",
          "height": 214
        },
        "outputId": "3f703ff6-93e8-45a2-d58f-2d44d8b42617"
      },
      "source": [
        "pan_result = pd.Series (np.argmax(predictions, axis=1).tolist()).replace({0:\"-90\" , 1: \"-75\", 2:\"-60\", 3:\"-45\", 4:\"-30\", 5:\"-15\", 6:\"0\", 7:\"15\", 8:\"30\", 9:\"45\", 10:\"60\", 11:\"75\", 12:\"90\"})\n",
        "pan_result.head(10)"
      ],
      "execution_count": 110,
      "outputs": [
        {
          "output_type": "execute_result",
          "data": {
            "text/plain": [
              "0     30\n",
              "1     75\n",
              "2     75\n",
              "3     30\n",
              "4      0\n",
              "5    -45\n",
              "6     60\n",
              "7    -15\n",
              "8    -60\n",
              "9    -45\n",
              "dtype: object"
            ]
          },
          "metadata": {
            "tags": []
          },
          "execution_count": 110
        }
      ]
    },
    {
      "cell_type": "code",
      "metadata": {
        "id": "1rzMZqydxk8f",
        "colab_type": "code",
        "colab": {}
      },
      "source": [
        "df = pd.DataFrame()\n",
        "df['pan_result'] = pan_result\n",
        "df['tilt_result'] = tilt_result"
      ],
      "execution_count": null,
      "outputs": []
    },
    {
      "cell_type": "code",
      "metadata": {
        "id": "u4gUkY-RyEkZ",
        "colab_type": "code",
        "colab": {}
      },
      "source": [
        "df.shape\n",
        "df.to_excel(\"Output.xlsx\")"
      ],
      "execution_count": null,
      "outputs": []
    }
  ]
}